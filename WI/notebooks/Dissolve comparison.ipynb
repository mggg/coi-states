{
 "cells": [
  {
   "cell_type": "code",
   "execution_count": null,
   "id": "b62c6ecf-07e0-47de-a58b-24f3f4a40de1",
   "metadata": {},
   "outputs": [],
   "source": [
    "%load_ext autoreload\n",
    "%autoreload 2 \n",
    "\n",
    "import maup\n",
    "import pandas as pd\n",
    "import geopandas as gpd\n",
    "import matplotlib.pyplot as plt\n",
    "from ast import literal_eval\n",
    "from tqdm import tqdm\n",
    "import warnings\n",
    "from shapely.geometry import MultiPolygon\n",
    "from collections import defaultdict"
   ]
  },
  {
   "cell_type": "code",
   "execution_count": null,
   "id": "aed09a3c-58cb-410f-99b0-a26ac500fb47",
   "metadata": {},
   "outputs": [],
   "source": [
    "warnings.filterwarnings('ignore', 'GeoSeries.isna', UserWarning)"
   ]
  },
  {
   "cell_type": "code",
   "execution_count": null,
   "id": "7781d9d8-b42a-416c-9769-21ad01a6720e",
   "metadata": {},
   "outputs": [],
   "source": [
    "bg_2010_path = '../data/tl_2010_55_bg10'\n",
    "bg_2020_path = '../data/tl_2020_55_bg'\n",
    "ward_2020_path = '../data/WI_2020_wards'\n",
    "submissions_path = '../data/wi_submissions_20210820_no_media_markets.csv'\n",
    "crs = '+proj=utm +zone=16 +ellps=WGS84 +datum=WGS84 +units=m +no_defs'"
   ]
  },
  {
   "cell_type": "code",
   "execution_count": null,
   "id": "f7abccc2-d7db-4842-97d1-96ae57b1ecf9",
   "metadata": {},
   "outputs": [],
   "source": [
    "submissions_df = pd.read_csv(submissions_path).rename(columns={'Unnamed: 0': 'id'}).set_index('id')"
   ]
  },
  {
   "cell_type": "code",
   "execution_count": null,
   "id": "a1b91a1c-0976-4065-97f3-10e634d15023",
   "metadata": {},
   "outputs": [],
   "source": [
    "submissions_df['tiles'] = submissions_df['tiles'].apply(literal_eval)"
   ]
  },
  {
   "cell_type": "code",
   "execution_count": null,
   "id": "907488d9-13de-4131-abb7-b8618314aab7",
   "metadata": {},
   "outputs": [],
   "source": [
    "bg_2010_gdf = gpd.read_file(bg_2010_path).set_index('GEOID10').to_crs(crs)\n",
    "bg_2010_gdf.index = bg_2010_gdf.index.astype(str)"
   ]
  },
  {
   "cell_type": "code",
   "execution_count": null,
   "id": "059e573d-0aa3-4e3f-9d24-dec1c4e58efc",
   "metadata": {},
   "outputs": [],
   "source": [
    "bg_2020_gdf = gpd.read_file(bg_2020_path).set_index('GEOID')"
   ]
  },
  {
   "cell_type": "code",
   "execution_count": null,
   "id": "e0fc24cc-7a74-42c3-8696-2d72149e13ea",
   "metadata": {},
   "outputs": [],
   "source": [
    "ward_gdf = gpd.read_file(ward_2020_path).set_index('Code-2').to_crs(crs)\n",
    "ward_gdf.index = ward_gdf.index.astype(str)"
   ]
  },
  {
   "cell_type": "code",
   "execution_count": null,
   "id": "64409e88-bfb7-47f1-a447-673910a4c19f",
   "metadata": {},
   "outputs": [],
   "source": [
    "with maup.progress():\n",
    "  #bg_to_ward = maup.assign(bg_2010_gdf, ward_gdf)#, area_cutoff=0.1 * ward_gdf.geometry.area.min())\n",
    "  #ward_to_bg_single = maup.assign(ward_gdf, bg_2010_gdf)\n",
    "  inter = maup.intersections(ward_gdf, bg_2010_gdf)"
   ]
  },
  {
   "cell_type": "markdown",
   "id": "1e487e15-b164-4c30-8b67-330ee5a484df",
   "metadata": {},
   "source": [
    "ward_to_bg = defaultdict(set)\n",
    "for bg, ward in bg_to_ward.items():\n",
    "  ward_to_bg[ward].add(bg)\n",
    "for ward, bg in ward_to_bg_single.items():\n",
    "  ward_to_bg[ward].add(bg)"
   ]
  },
  {
   "cell_type": "code",
   "execution_count": null,
   "id": "4ab7ef96-df33-49c6-aada-ee731592a564",
   "metadata": {},
   "outputs": [],
   "source": [
    "ward_to_bg = defaultdict(set)\n",
    "for (ward, bg), geom in inter.items():\n",
    "  if geom.area > 0.01 * ward_gdf.loc[ward].geometry.area:\n",
    "    ward_to_bg[ward].add(bg)"
   ]
  },
  {
   "cell_type": "code",
   "execution_count": null,
   "id": "4cbcf55a-ed39-4b8f-85ed-41130f63b9ff",
   "metadata": {},
   "outputs": [],
   "source": [
    "ward_gdf['idx'] = ward_gdf.index"
   ]
  },
  {
   "cell_type": "code",
   "execution_count": null,
   "id": "152e1336-23cd-4ff2-ba7b-891c9b88e271",
   "metadata": {},
   "outputs": [],
   "source": [
    "fail_count = 0\n",
    "for idx, tiles in tqdm(submissions_df['tiles'].items()):\n",
    "  if not tiles:\n",
    "    continue\n",
    "  if len(tiles[0]) != 12:\n",
    "    # Wards.\n",
    "    coi_geom = ward_gdf[ward_gdf.index.isin(tiles)]\n",
    "    \n",
    "    fig, ax = plt.subplots(dpi=150)\n",
    "    mapped_bgs = set.union(*(ward_to_bg[ward] for ward in tiles))\n",
    "    bg_2010_gdf.loc[bg_2010_gdf.index.isin(mapped_bgs)].plot(ax=ax, color='#ccc', alpha=0.5, edgecolor='black', linewidth=1.5)\n",
    "    coi_geom.plot(ax=ax, alpha=0.6, column='idx', edgecolor='red', linewidth=1)\n",
    "    ax.set_title('Mapping')\n",
    "    plt.show()\n",
    "    plt.close()    \n",
    "    \n",
    "    coi_dissolved = maup.autorepair(coi_geom.dissolve())\n",
    "      \n",
    "    try:\n",
    "      if isinstance(coi_dissolved.iloc[0], MultiPolygon):\n",
    "        #print(coi_dissolved.iloc[0].geometry)\n",
    "        sub_gdf = gpd.GeoDataFrame({'geometry': list(coi_dissolved.iloc[0].geoms)})\n",
    "        sub_gdf.crs = coi_geom.crs\n",
    "        cutoff = 0.005 * sub_gdf.area.sum()\n",
    "        assignment = maup.assign(bg_2010_gdf, sub_gdf, area_cutoff=cutoff)\n",
    "      else:\n",
    "        cutoff = 0.005 * coi_dissolved.area.sum()\n",
    "        assignment = maup.assign(bg_2010_gdf, coi_dissolved, area_cutoff=cutoff)\n",
    "        \n",
    "      fig, ax = plt.subplots(dpi=150)\n",
    "      bg_2010_gdf.loc[bg_2010_gdf.index.isin(assignment[~assignment.isna()].index)].plot(ax=ax, color='#ccc', alpha=0.5, edgecolor='black', linewidth=1.5)\n",
    "      coi_geom.plot(ax=ax, alpha=0.6, column='idx', edgecolor='red', linewidth=1)\n",
    "      ax.set_title('Dissolving')\n",
    "      plt.show()\n",
    "      plt.close()\n",
    "      \n",
    "    except TypeError as ex:\n",
    "      print('Failed to maup.\\n', ex)\n",
    "      fail_count += 1"
   ]
  },
  {
   "cell_type": "code",
   "execution_count": null,
   "id": "024f59af-c7b5-46a1-9735-c2c6f1429b81",
   "metadata": {},
   "outputs": [],
   "source": []
  },
  {
   "cell_type": "code",
   "execution_count": null,
   "id": "286bf5fd-10bb-4262-875a-d89841cfc84f",
   "metadata": {},
   "outputs": [],
   "source": [
    "len('551332035004')"
   ]
  },
  {
   "cell_type": "code",
   "execution_count": null,
   "id": "0af31f0d-d2ee-4227-8b40-2210a79df778",
   "metadata": {},
   "outputs": [],
   "source": []
  }
 ],
 "metadata": {
  "kernelspec": {
   "display_name": "Python 3 (ipykernel)",
   "language": "python",
   "name": "python3"
  },
  "language_info": {
   "codemirror_mode": {
    "name": "ipython",
    "version": 3
   },
   "file_extension": ".py",
   "mimetype": "text/x-python",
   "name": "python",
   "nbconvert_exporter": "python",
   "pygments_lexer": "ipython3",
   "version": "3.9.6"
  }
 },
 "nbformat": 4,
 "nbformat_minor": 5
}
