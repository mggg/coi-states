{
 "cells": [
  {
   "cell_type": "code",
   "execution_count": null,
   "id": "fb966e06",
   "metadata": {},
   "outputs": [],
   "source": [
    "import os\n",
    "import us\n",
    "import json\n",
    "import maup\n",
    "import pandas as pd\n",
    "import geopandas as gpd\n",
    "import copy\n",
    "import warnings\n",
    "from collections import defaultdict\n",
    "import submission_analysis.fetch as fetch\n",
    "from submission_analysis.crosswalk import Crosswalk"
   ]
  },
  {
   "cell_type": "code",
   "execution_count": null,
   "id": "b07db53c-5e1b-4652-867a-80f7bc1b5ce5",
   "metadata": {},
   "outputs": [],
   "source": [
    "warnings.filterwarnings('ignore', 'GeoSeries.isna', UserWarning)"
   ]
  },
  {
   "cell_type": "raw",
   "id": "72a6e573-3ade-4012-8e1a-cdde927274ac",
   "metadata": {
    "tags": []
   },
   "source": [
    "ids_url = \"https://k61e3cz2ni.execute-api.us-east-2.amazonaws.com/prod/submissions/districtr-ids/wisconsin\"\n",
    "csv_url = \"https://k61e3cz2ni.execute-api.us-east-2.amazonaws.com/prod/submissions/csv/wisconsin\"\n",
    "data_dir = '../../WI/data'\n",
    "output_path = 'wi_submissions_20210820_no_media_markets.csv'\n",
    "labels_path = '../../WI/data/WI_dump_20210815.jsonl'\n",
    "vtd_to_block_2020_crosswalk_path = '../../WI/data/wi_2020_wards_to_2020_blocks.json'\n",
    "block_2010_to_block_2020_crosswalk_path = '../../WI/data/tab2010_tab2020_st55_wi.txt'\n",
    "bg_2010_shapefile_path = '../../WI/data/tl_2010_55_bg10'\n",
    "vtd_shapefile_path = '../../WI/data/WI_2020_wards'\n",
    "vtd_shapefile_index = 'Code-2'\n",
    "exclude_prefixes = ['c2218', 'c2214', 'c2209', 'c2208', 'c2206', 'c1388', 'c1387', 'c1310', 'c1173']\n",
    "crs = 'EPSG:32616'\n",
    "state_name = 'Wisconsin'"
   ]
  },
  {
   "cell_type": "code",
   "execution_count": null,
   "id": "bd7261f4-5a39-46db-902a-599b023c265d",
   "metadata": {
    "tags": [
     "parameters"
    ]
   },
   "outputs": [],
   "source": [
    "ids_url = \"https://k61e3cz2ni.execute-api.us-east-2.amazonaws.com/prod/submissions/districtr-ids/missouri\"\n",
    "csv_url = \"https://k61e3cz2ni.execute-api.us-east-2.amazonaws.com/prod/submissions/csv/missouri\"\n",
    "data_dir = '../../MO/data'\n",
    "output_path = 'mo_submissions_20210823.csv'\n",
    "labels_path = '../../MO/data/MO_dump_20210815.jsonl'\n",
    "vtd_to_block_2020_crosswalk_path = None\n",
    "block_2010_to_block_2020_crosswalk_path = '../../MO/data/tab2010_tab2020_st29_mo.txt'\n",
    "bg_2010_shapefile_path = '../../MO/data/tl_2010_29_bg10'\n",
    "vtd_shapefile_path = None\n",
    "vtd_shapefile_index = None\n",
    "exclude_prefixes = []\n",
    "crs = 'EPSG:32615'\n",
    "state_name = 'Missouri'"
   ]
  },
  {
   "cell_type": "code",
   "execution_count": null,
   "id": "9fb42e47-a481-4bfc-bce9-71f95210fdb5",
   "metadata": {},
   "outputs": [],
   "source": [
    "plan = csv_url + \"?type=plan&length=10000\"\n",
    "cois = csv_url + \"?type=coi&length=10000\"\n",
    "written = csv_url + \"?type=written&length=10000\""
   ]
  },
  {
   "cell_type": "code",
   "execution_count": null,
   "id": "8cefe75d",
   "metadata": {},
   "outputs": [],
   "source": [
    "def new_pivot(df, state):\n",
    "    df['units'] = df['districtr_data'].apply(lambda x: x['plan']['units']['id'])\n",
    "        \n",
    "    fips = us.states.lookup(state).fips\n",
    "    \n",
    "    cols = ['districtr_id', 'submission_title','submission_text', 'area_name', 'area_text', 'unit', 'tiles']\n",
    "    pivot = pd.DataFrame(columns = cols)\n",
    "\n",
    "    for _idx, row in df.iterrows():        \n",
    "        # get all info\n",
    "        unit = row['units']\n",
    "        plan_id = row['plan_id']\n",
    "        sub_type = row['type']\n",
    "        sub_id = row['id']\n",
    "\n",
    "        row_key = row['districtr_data']['plan']['idColumn']['key']\n",
    "        if state == \"Wisconsin\" and row_key == \"GEOID10\" and unit == \"wards\":\n",
    "            continue\n",
    "\n",
    "        try:\n",
    "            asn = row['districtr_data']['plan']['assignment']\n",
    "        except KeyError: # empty plan\n",
    "            continue\n",
    "\n",
    "        sub_title = row['title']\n",
    "        sub_text = row['text']\n",
    "        parts = row['districtr_data']['plan']['parts']\n",
    "        titles = {p['id']: p.get('name', '') for p in parts}\n",
    "        texts = {p['id']: p.get('description', '') for p in parts}\n",
    "\n",
    "        # make lists\n",
    "        assigned = asn.keys()\n",
    "        distinct_cois = {}\n",
    "        for tile in assigned:\n",
    "            tmp = asn[tile]\n",
    "            if not isinstance(tmp, list):\n",
    "                tmp = [tmp]\n",
    "            for coi in tmp:\n",
    "                if coi not in distinct_cois.keys():\n",
    "                    distinct_cois[coi] = {\n",
    "                        'sub_title': sub_title,\n",
    "                        'sub_text': sub_text,\n",
    "                        'area_title': titles[coi] if coi in titles else \"\",\n",
    "                        'area_text': texts[coi] if coi in texts else \"\",\n",
    "                        'unit': unit,\n",
    "                        'tiles': []\n",
    "                    }\n",
    "                distinct_cois[coi]['tiles'].append(tile)\n",
    "\n",
    "\n",
    "        primary_keys = [f'{sub_type[0]}{sub_id}-{d+1}' for d in distinct_cois.keys()]\n",
    "        acc = pd.DataFrame(index = primary_keys, columns = cols)\n",
    "        for (d, p) in zip(distinct_cois.keys(), primary_keys):\n",
    "            acc.at[p, 'districtr_id'] = f'{plan_id}-{d+1}'\n",
    "            acc.at[p, 'submission_title'] = distinct_cois[d]['sub_title']\n",
    "            acc.at[p, 'submission_text'] = distinct_cois[d]['sub_text']\n",
    "            acc.at[p, 'area_text'] = distinct_cois[d]['area_text']\n",
    "            acc.at[p, 'area_name'] = distinct_cois[d]['area_title']\n",
    "            acc.at[p, 'unit'] = distinct_cois[d]['unit']\n",
    "            acc.at[p, 'tiles'] = distinct_cois[d]['tiles']\n",
    "        pivot = pivot.append(acc)\n",
    "    \n",
    "    pivot = pivot.fillna(0)\n",
    "    return pivot"
   ]
  },
  {
   "cell_type": "code",
   "execution_count": null,
   "id": "521f79f1-44c6-4e93-8500-fbc63cb7d77d",
   "metadata": {},
   "outputs": [],
   "source": [
    "bg_2010_gdf = gpd.read_file(bg_2010_shapefile_path).set_index('GEOID10').to_crs(crs)\n",
    "bg_2010_gdf.index = bg_2010_gdf.index.astype(str)"
   ]
  },
  {
   "cell_type": "code",
   "execution_count": null,
   "id": "7bc12c67-0b85-4a67-b6d4-32afdf028b36",
   "metadata": {
    "tags": []
   },
   "outputs": [],
   "source": [
    "if vtd_shapefile_path:\n",
    "  vtd_gdf = gpd.read_file(vtd_shapefile_path).set_index(vtd_shapefile_index).to_crs(crs)\n",
    "  vtd_gdf.index = vtd_gdf.index.astype(str)"
   ]
  },
  {
   "cell_type": "code",
   "execution_count": null,
   "id": "54e8e6f9-abe5-41b2-b317-14831f166920",
   "metadata": {},
   "outputs": [],
   "source": [
    "if vtd_shapefile_path:\n",
    "  with maup.progress():\n",
    "    vtd_bg_inter = maup.intersections(vtd_gdf, bg_2010_gdf)"
   ]
  },
  {
   "cell_type": "code",
   "execution_count": null,
   "id": "1f9fa42b-51c2-4023-8bee-46cc2d1e5d5a",
   "metadata": {},
   "outputs": [],
   "source": [
    "if vtd_shapefile_path:\n",
    "  vtd_to_bg = defaultdict(set)\n",
    "  for (vtd, bg), geom in vtd_bg_inter.items():\n",
    "    if geom.area > 0.01 * vtd_gdf.loc[vtd].geometry.area:\n",
    "      vtd_to_bg[vtd].add(bg)"
   ]
  },
  {
   "cell_type": "code",
   "execution_count": null,
   "id": "69df75e3-0853-48c4-b56d-47b03faac4de",
   "metadata": {},
   "outputs": [],
   "source": [
    "cw = Crosswalk(block_2010_to_block_2020_crosswalk_path,\n",
    "               vtd_to_block_2020_crosswalk_path)"
   ]
  },
  {
   "cell_type": "code",
   "execution_count": null,
   "id": "898a7251-5517-436b-87a5-28761f220687",
   "metadata": {},
   "outputs": [],
   "source": [
    "_, coi_df, _ = fetch.submissions(ids_url, plan, cois, written)\n",
    "coi_df = coi_df[coi_df['districtr_data'].apply(lambda d: 'plan' in d)]  # remove problematic imported submission"
   ]
  },
  {
   "cell_type": "code",
   "execution_count": null,
   "id": "552ac92d-9156-48fa-8c49-49a302383684",
   "metadata": {},
   "outputs": [],
   "source": [
    "def load_labels(labels_path):\n",
    "  labeled_submissions = [\n",
    "    json.loads(line)\n",
    "    for line in open(labels_path)\n",
    "  ]\n",
    "  labeled_cois = [\n",
    "    submission\n",
    "    for submission in labeled_submissions\n",
    "    if submission.get('pseudo_coi', False) == True or submission['type'] == 'coi'\n",
    "  ]\n",
    "  \n",
    "  coi_labels_by_id = defaultdict(set)\n",
    "  for submission in labeled_cois:\n",
    "    labels = set.union(\n",
    "      *(set(annotation['labels'])\n",
    "        for annotation in submission['annotations'].values())\n",
    "    )\n",
    "    coi_labels_by_id[submission['type'][0] + submission['id']] = labels\n",
    "    \n",
    "  return coi_labels_by_id"
   ]
  },
  {
   "cell_type": "code",
   "execution_count": null,
   "id": "2124af20",
   "metadata": {},
   "outputs": [],
   "source": [
    "def blocks_2020(row):\n",
    "    \"\"\"Maps wards/VTDs or 2010 block groups to 2020 blocks.\"\"\"\n",
    "    if row['unit'] == 'blockgroups':\n",
    "        return list(cw.map_2010_block_groups(str(t) for t in row['tiles']))\n",
    "    elif row['unit'] in ('precincts', 'wards'):\n",
    "        return list(cw.map_vtds(str(t) for t in row['tiles']))\n",
    "    return 'ERROR'"
   ]
  },
  {
   "cell_type": "code",
   "execution_count": null,
   "id": "53a1443f-0a7e-4785-9403-93f0284634a1",
   "metadata": {},
   "outputs": [],
   "source": [
    "def block_groups_2010(row):\n",
    "  \"\"\"Standardizes units across submissions: preserves 2010 block\n",
    "  groups or (approximately) maps VTDs/wards to 2010 block groups.\"\"\"\n",
    "  if row['unit'] == 'blockgroups':\n",
    "    return row['tiles']\n",
    "  elif row['unit'] in ('precincts', 'wards'):\n",
    "    return list(set.union(*(vtd_to_bg[vtd] for vtd in row['tiles'])))\n",
    "  return 'ERROR'"
   ]
  },
  {
   "cell_type": "code",
   "execution_count": null,
   "id": "87e8cfca-1274-43c7-9d47-c0df4359588f",
   "metadata": {},
   "outputs": [],
   "source": [
    "pivoted = new_pivot(coi_df, state_name)\n",
    "pivoted = pivoted[~pivoted.index.to_series().apply(\n",
    "  lambda _id: any(_id.startswith(prefix) for prefix in exclude_prefixes)\n",
    ")]  # remove excluded submissions\n",
    "\n",
    "coi_labels_by_id = load_labels(labels_path)\n",
    "    \n",
    "pivoted['blocks_2020'] = pivoted.apply(blocks_2020, axis=1)\n",
    "pivoted['block_groups_2010'] = pivoted.apply(block_groups_2010, axis=1)\n",
    "pivoted['labels'] = pivoted.index.to_series().apply(lambda x: list(coi_labels_by_id[x]))\n",
    "pivoted.to_csv(os.path.join(data_dir, output_path))"
   ]
  }
 ],
 "metadata": {
  "kernelspec": {
   "display_name": "Python 3 (ipykernel)",
   "language": "python",
   "name": "python3"
  },
  "language_info": {
   "codemirror_mode": {
    "name": "ipython",
    "version": 3
   },
   "file_extension": ".py",
   "mimetype": "text/x-python",
   "name": "python",
   "nbconvert_exporter": "python",
   "pygments_lexer": "ipython3",
   "version": "3.9.6"
  }
 },
 "nbformat": 4,
 "nbformat_minor": 5
}
