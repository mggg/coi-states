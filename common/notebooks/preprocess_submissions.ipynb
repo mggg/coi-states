{
 "cells": [
  {
   "cell_type": "code",
   "execution_count": null,
   "id": "9c274b53",
   "metadata": {},
   "outputs": [],
   "source": [
    "import us\n",
    "import os\n",
    "import json\n",
    "import maup\n",
    "import pickle\n",
    "import pandas as pd\n",
    "import geopandas as gpd\n",
    "import copy\n",
    "import pickle\n",
    "import warnings\n",
    "from ast import literal_eval\n",
    "from collections import defaultdict\n",
    "import submission_analysis.fetch as fetch\n",
    "from submission_analysis.crosswalk import Crosswalk"
   ]
  },
  {
   "cell_type": "code",
   "execution_count": null,
   "id": "7deca4ab",
   "metadata": {},
   "outputs": [],
   "source": [
    "warnings.filterwarnings('ignore', 'GeoSeries.isna', UserWarning)"
   ]
  },
  {
   "cell_type": "raw",
   "id": "425b725e",
   "metadata": {},
   "source": [
    "ids_url = \"https://k61e3cz2ni.execute-api.us-east-2.amazonaws.com/prod/submissions/districtr-ids/wisconsin\"\n",
    "csv_url = \"https://k61e3cz2ni.execute-api.us-east-2.amazonaws.com/prod/submissions/csv/wisconsin\"\n",
    "data_dir = '../../WI/data'\n",
    "output_path = 'wi_submissions_20210820_no_media_markets.csv'\n",
    "labels_path = '../../WI/data/WI_dump_20210815.jsonl'\n",
    "vtd_to_block_2020_crosswalk_path = '../../WI/data/wi_2020_wards_to_2020_blocks.json'\n",
    "block_2010_to_block_2020_crosswalk_path = '../../WI/data/tab2010_tab2020_st55_wi.txt'\n",
    "bg_2010_shapefile_path = '../../WI/data/tl_2010_55_bg10'\n",
    "vtd_shapefile_path = '../../WI/data/WI_2020_wards'\n",
    "vtd_shapefile_index = 'Code-2'\n",
    "exclude_prefixes = ['c2218', 'c2214', 'c2209', 'c2208', 'c2206', 'c1388', 'c1387', 'c1310', 'c1173']\n",
    "crs = 'EPSG:32616'\n",
    "state_name = 'Wisconsin'"
   ]
  },
  {
   "cell_type": "code",
   "execution_count": null,
   "id": "371dc88c-3571-4913-bd61-8caa77da41e7",
   "metadata": {
    "tags": [
     "parameters"
    ]
   },
   "outputs": [],
   "source": [
    "ids_url = \"https://k61e3cz2ni.execute-api.us-east-2.amazonaws.com/prod/submissions/districtr-ids/missouri\"\n",
    "csv_url = \"https://k61e3cz2ni.execute-api.us-east-2.amazonaws.com/prod/submissions/csv/missouri\"\n",
    "data_dir = '../../MO/data'\n",
    "output_path = 'mo_submissions_20210902.csv'\n",
    "labels_path = '../../MO/data/MO_dump_20210815.jsonl'\n",
    "block_2010_to_block_2020_crosswalk_path = '../../MO/data/tab2010_tab2020_st29_mo.txt'\n",
    "bg_2010_shapefile_path = '../../MO/data/tl_2010_29_bg10'\n",
    "exclude_prefixes = []\n",
    "exclude_units = []\n",
    "crs = 'EPSG:32615'\n",
    "state_name = 'Missouri'\n",
    "crosswalk_paths = {}"
   ]
  },
  {
   "cell_type": "raw",
   "id": "3968aeb0-c073-4e5c-889e-bdefadc16c30",
   "metadata": {
    "tags": []
   },
   "source": [
    "ids_url = \"https://k61e3cz2ni.execute-api.us-east-2.amazonaws.com/prod/submissions/districtr-ids/ohio\"\n",
    "csv_url = \"https://k61e3cz2ni.execute-api.us-east-2.amazonaws.com/prod/submissions/csv/ohio\"\n",
    "data_dir = '../../OH/data'\n",
    "output_path = 'oh_submissions_20210823.csv'\n",
    "labels_path = '../../OH/data/OH_dump_20210815.jsonl'\n",
    "vtd_to_block_2020_crosswalk_path = None\n",
    "block_2010_to_block_2020_crosswalk_path = '../../OH/data/tab2010_tab2020_st39_oh.txt'\n",
    "bg_2010_shapefile_path = '../../OH/data/tl_2010_39_bg10'\n",
    "vtd_shapefile_path = '../../OH/data/tl_2020_39_vtd20'\n",
    "vtd_shapefile_index = 'GEOID20'\n",
    "exclude_prefixes = []\n",
    "crs = 'EPSG:32617'\n",
    "state_name = 'Ohio'\n",
    "exclude_units = ['blocks']\n",
    "crosswalk_paths = {}"
   ]
  },
  {
   "cell_type": "raw",
   "id": "8537c6d3-0849-4839-933b-4f75ec45fb54",
   "metadata": {
    "tags": []
   },
   "source": [
    "ids_url = 'https://o1siz7rw0c.execute-api.us-east-2.amazonaws.com/prod/submissions/districtr-ids/michigan'\n",
    "csv_url = 'https://o1siz7rw0c.execute-api.us-east-2.amazonaws.com/prod/submissions/csv/michigan'\n",
    "data_dir = '../../MI/data'\n",
    "output_path = 'mi_submissions_20210823.csv'\n",
    "labels_path = '../../MI/data/MI_dump_20210815.jsonl'\n",
    "block_2010_to_block_2020_crosswalk_path = '../../MI/data/tab2010_tab2020_st26_mi.txt'\n",
    "bg_2010_shapefile_path = '../../MI/data/tl_2010_26_bg10'\n",
    "exclude_prefixes = ['p2671']\n",
    "crs = 'EPSG:32616'\n",
    "state_name = 'Michigan'\n",
    "old_db_path = '../../MI/data/mi_cluster_db_20210809.pkl'\n",
    "\n",
    "crosswalk_paths = {\n",
    "  'precincts': {\n",
    "    'bg_2010': '../../MI/data/mi_2016_precincts_to_2010_block_groups.json',\n",
    "    'block_2020': '../../MI/data/mi_2016_precincts_to_2020_blocks.json'\n",
    "  },\n",
    "  'vtds20': { \n",
    "    'bg_2010': '../../MI/data/mi_2020_vtds_to_2010_block_groups.json',\n",
    "    'block_2020': '../../MI/data/mi_2020_vtds_to_2020_blocks.json'\n",
    "  }\n",
    "}"
   ]
  },
  {
   "cell_type": "code",
   "execution_count": null,
   "id": "fd7788e8",
   "metadata": {},
   "outputs": [],
   "source": [
    "plan = csv_url + \"?type=plan&length=10000\"\n",
    "cois = csv_url + \"?type=coi&length=10000\"\n",
    "written = csv_url + \"?type=written&length=10000\""
   ]
  },
  {
   "cell_type": "code",
   "execution_count": null,
   "id": "fc288de3",
   "metadata": {},
   "outputs": [],
   "source": [
    "def new_pivot(df, state):\n",
    "    df['units'] = df['districtr_data'].apply(lambda x: x['plan']['units']['id'])\n",
    "        \n",
    "    fips = us.states.lookup(state).fips\n",
    "    \n",
    "    cols = ['districtr_id', 'submission_title','submission_text', 'area_name', 'area_text', 'unit', 'tiles']\n",
    "    pivot = pd.DataFrame(columns = cols)\n",
    "\n",
    "    for _idx, row in df.iterrows():        \n",
    "        # get all info\n",
    "        unit = row['units']\n",
    "        plan_id = row['plan_id']\n",
    "        sub_type = row['type']\n",
    "        sub_id = row['id']\n",
    "\n",
    "        row_key = row['districtr_data']['plan']['idColumn']['key']\n",
    "        if state == \"Wisconsin\" and row_key == \"GEOID10\" and unit == \"wards\":\n",
    "            continue\n",
    "\n",
    "        try:\n",
    "            asn = row['districtr_data']['plan']['assignment']\n",
    "        except KeyError: # empty plan\n",
    "            continue\n",
    "\n",
    "        sub_title = row['title']\n",
    "        sub_text = row['text']\n",
    "        parts = row['districtr_data']['plan']['parts']\n",
    "        titles = {p['id']: p.get('name', '') for p in parts}\n",
    "        texts = {p['id']: p.get('description', '') for p in parts}\n",
    "\n",
    "        # make lists\n",
    "        assigned = asn.keys()\n",
    "        distinct_cois = {}\n",
    "        for tile in assigned:\n",
    "            tmp = asn[tile]\n",
    "            if not isinstance(tmp, list):\n",
    "                tmp = [tmp]\n",
    "            for coi in tmp:\n",
    "                if coi not in distinct_cois.keys():\n",
    "                    distinct_cois[coi] = {\n",
    "                        'sub_title': sub_title,\n",
    "                        'sub_text': sub_text,\n",
    "                        'area_title': titles[coi] if coi in titles else \"\",\n",
    "                        'area_text': texts[coi] if coi in texts else \"\",\n",
    "                        'unit': unit,\n",
    "                        'tiles': []\n",
    "                    }\n",
    "                distinct_cois[coi]['tiles'].append(tile)\n",
    "\n",
    "\n",
    "        primary_keys = [f'{sub_type[0]}{sub_id}-{d+1}' for d in distinct_cois.keys()]\n",
    "        acc = pd.DataFrame(index = primary_keys, columns = cols)\n",
    "        for (d, p) in zip(distinct_cois.keys(), primary_keys):\n",
    "            acc.at[p, 'districtr_id'] = f'{plan_id}-{d+1}'\n",
    "            acc.at[p, 'submission_title'] = distinct_cois[d]['sub_title']\n",
    "            acc.at[p, 'submission_text'] = distinct_cois[d]['sub_text']\n",
    "            acc.at[p, 'area_text'] = distinct_cois[d]['area_text']\n",
    "            acc.at[p, 'area_name'] = distinct_cois[d]['area_title']\n",
    "            acc.at[p, 'unit'] = distinct_cois[d]['unit']\n",
    "            acc.at[p, 'tiles'] = distinct_cois[d]['tiles']\n",
    "        pivot = pivot.append(acc)\n",
    "    \n",
    "    pivot = pivot.fillna(0)\n",
    "    return pivot"
   ]
  },
  {
   "cell_type": "code",
   "execution_count": null,
   "id": "69af20a8",
   "metadata": {},
   "outputs": [],
   "source": [
    "bg_2010_gdf = gpd.read_file(bg_2010_shapefile_path).set_index('GEOID10').to_crs(crs)\n",
    "bg_2010_gdf.index = bg_2010_gdf.index.astype(str)"
   ]
  },
  {
   "cell_type": "code",
   "execution_count": null,
   "id": "dcf50748",
   "metadata": {},
   "outputs": [],
   "source": [
    "block_crosswalk = Crosswalk(block_2010_to_block_2020_crosswalk_path)\n",
    "unit_mappings = {\n",
    "  from_unit: {\n",
    "    to_unit: {\n",
    "      f: set(t) for f, t in json.load(open(path)).items()\n",
    "    }\n",
    "    for to_unit, path in paths.items()\n",
    "  }\n",
    "  for from_unit, paths in crosswalk_paths.items()\n",
    "}"
   ]
  },
  {
   "cell_type": "code",
   "execution_count": null,
   "id": "ce8a20f7",
   "metadata": {},
   "outputs": [],
   "source": [
    "plan_df, coi_df, _ = fetch.submissions(ids_url, plan, cois, written)\n",
    "coi_df = coi_df[coi_df['districtr_data'].apply(lambda d: 'plan' in d)]  # remove problematic imported submissions"
   ]
  },
  {
   "cell_type": "code",
   "execution_count": null,
   "id": "e78ef55b-6ea5-40ce-aa7d-f90ad14fc3e6",
   "metadata": {},
   "outputs": [],
   "source": [
    "def pseudo_coi(data):\n",
    "  assignment = data.get('plan', {}).get('assignment', {})\n",
    "  unique_assignments = set()\n",
    "  for val in assignment.values():\n",
    "    if isinstance(val, list):\n",
    "      for v in val:\n",
    "        unique_assignments.add(v)\n",
    "    else:\n",
    "      unique_assignments.add(val)\n",
    "  return len(unique_assignments) == 1"
   ]
  },
  {
   "cell_type": "code",
   "execution_count": null,
   "id": "2aa6b74e-1475-4c14-ab55-544fa9aa72b6",
   "metadata": {},
   "outputs": [],
   "source": [
    "plan_df['pseudo_coi'] = plan_df['districtr_data'].apply(pseudo_coi)"
   ]
  },
  {
   "cell_type": "code",
   "execution_count": null,
   "id": "13485651-c03e-4bda-99e9-332c7b650c00",
   "metadata": {},
   "outputs": [],
   "source": [
    "plan_df = plan_df[plan_df['pseudo_coi']]"
   ]
  },
  {
   "cell_type": "code",
   "execution_count": null,
   "id": "fa6e4851",
   "metadata": {},
   "outputs": [],
   "source": [
    "def load_labels(labels_path):\n",
    "  labeled_submissions = [\n",
    "    json.loads(line)\n",
    "    for line in open(labels_path)\n",
    "  ]\n",
    "  labeled_cois = [\n",
    "    submission\n",
    "    for submission in labeled_submissions\n",
    "    if submission.get('pseudo_coi', False) == True or submission['type'] == 'coi'\n",
    "  ]\n",
    "  \n",
    "  coi_labels_by_id = defaultdict(set)\n",
    "  for submission in labeled_cois:\n",
    "    labels = set.union(\n",
    "      *(set(annotation['labels'])\n",
    "        for annotation in submission['annotations'].values())\n",
    "    )\n",
    "    coi_labels_by_id[submission['type'][0] + submission['id']] = labels\n",
    "    \n",
    "  return coi_labels_by_id"
   ]
  },
  {
   "cell_type": "code",
   "execution_count": null,
   "id": "a9266415",
   "metadata": {},
   "outputs": [],
   "source": [
    "def blocks_2020(row):\n",
    "    \"\"\"Maps wards/VTDs or 2010 block groups to 2020 blocks.\"\"\"\n",
    "    unit = row['unit']\n",
    "    if unit == 'blockgroups':\n",
    "        return list(block_crosswalk.map_2010_block_groups(str(t) for t in row['tiles']))\n",
    "    return list(set.union(*(unit_mappings[unit]['block_2020'][vtd] for vtd in row['tiles'])))"
   ]
  },
  {
   "cell_type": "code",
   "execution_count": null,
   "id": "01635ce8",
   "metadata": {},
   "outputs": [],
   "source": [
    "def block_groups_2010(row):\n",
    "  \"\"\"Standardizes units across submissions: preserves 2010 block\n",
    "  groups or (approximately) maps VTDs/wards to 2010 block groups.\"\"\"\n",
    "  unit = row['unit']\n",
    "  if unit == 'blockgroups':\n",
    "    return row['tiles']\n",
    "  return list(set.union(*(unit_mappings[unit]['bg_2010'][vtd] for vtd in row['tiles'])))"
   ]
  },
  {
   "cell_type": "code",
   "execution_count": null,
   "id": "e12a142a",
   "metadata": {},
   "outputs": [],
   "source": [
    "pivoted_coi = new_pivot(coi_df, state_name)"
   ]
  },
  {
   "cell_type": "code",
   "execution_count": null,
   "id": "6d5263a2-e162-49a9-b7ce-afab44ee302d",
   "metadata": {},
   "outputs": [],
   "source": [
    "if not plan_df.empty:\n",
    "  pivoted_plan = new_pivot(plan_df, state_name)"
   ]
  },
  {
   "cell_type": "code",
   "execution_count": null,
   "id": "a139c741-f57c-47e8-b3d1-d45cc715c3a1",
   "metadata": {},
   "outputs": [],
   "source": [
    "if plan_df.empty:\n",
    "  pivoted = pivoted_coi\n",
    "else:\n",
    "  pivoted = pivoted_coi.append(pivoted_plan)"
   ]
  },
  {
   "cell_type": "code",
   "execution_count": null,
   "id": "e89f2a9a-a696-473e-8e91-e99301cae8a0",
   "metadata": {},
   "outputs": [],
   "source": [
    "pivoted_coi.groupby('unit').size()"
   ]
  },
  {
   "cell_type": "code",
   "execution_count": null,
   "id": "82acc77c-e44a-4370-b8a0-617e3535f946",
   "metadata": {},
   "outputs": [],
   "source": [
    "pivoted = pivoted[~(pivoted['unit'].isin(exclude_units))]\n",
    "pivoted = pivoted[~pivoted.index.to_series().apply(\n",
    "  lambda _id: any(_id.startswith(prefix) for prefix in exclude_prefixes)\n",
    ")]  # remove excluded submissions\n",
    "\n",
    "coi_labels_by_id = load_labels(labels_path)\n",
    "    \n",
    "pivoted['blocks_2020'] = pivoted.apply(blocks_2020, axis=1)\n",
    "pivoted['block_groups_2010'] = pivoted.apply(block_groups_2010, axis=1)\n",
    "pivoted['labels'] = pivoted.index.to_series().apply(lambda x: list(coi_labels_by_id[x]))\n",
    "pivoted.to_csv(os.path.join(data_dir, output_path))"
   ]
  }
 ],
 "metadata": {
  "kernelspec": {
   "display_name": "Python 3 (ipykernel)",
   "language": "python",
   "name": "python3"
  },
  "language_info": {
   "codemirror_mode": {
    "name": "ipython",
    "version": 3
   },
   "file_extension": ".py",
   "mimetype": "text/x-python",
   "name": "python",
   "nbconvert_exporter": "python",
   "pygments_lexer": "ipython3",
   "version": "3.9.6"
  }
 },
 "nbformat": 4,
 "nbformat_minor": 5
}
