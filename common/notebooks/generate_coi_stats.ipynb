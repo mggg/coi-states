{
 "cells": [
  {
   "cell_type": "code",
   "execution_count": null,
   "id": "7eccd4b5-3fa8-441c-9401-4f3faa62c019",
   "metadata": {},
   "outputs": [],
   "source": [
    "%config InlineBackend.figure_formats = ['svg']\n",
    "import os\n",
    "import maup\n",
    "import json\n",
    "import numpy as np\n",
    "import pandas as pd\n",
    "import geopandas as gpd\n",
    "from tqdm import tqdm\n",
    "from gerrychain import Graph\n",
    "from pcompress import Replay\n",
    "from collections import defaultdict\n",
    "import matplotlib.pyplot as plt\n",
    "from joblib import Parallel, delayed\n",
    "from ast import literal_eval\n",
    "from scipy import sparse"
   ]
  },
  {
   "cell_type": "code",
   "execution_count": null,
   "id": "e79b5526-ce28-437f-ab35-c8dc1d1a4a96",
   "metadata": {},
   "outputs": [],
   "source": [
    "import warnings; warnings.filterwarnings('ignore', 'GeoSeries.isna', UserWarning)"
   ]
  },
  {
   "cell_type": "code",
   "execution_count": null,
   "id": "23c399f7-24e3-41a5-9c24-3b8933db4b86",
   "metadata": {
    "tags": [
     "parameters"
    ]
   },
   "outputs": [],
   "source": [
    "output_dir = '../../WI/outputs'\n",
    "output_prefix = 'wi_congress_milwaukee_coi_preservation'\n",
    "figure_title = 'COI preservation in Wisconsin (Congress)'\n",
    "block_shapefile_path = '../../WI/data/tl_2020_55_tabblock20'\n",
    "proj = 'EPSG:32615'\n",
    "plans_path = '../../WI/data/proposed_plans'\n",
    "block_pops_path = '../../WI/data/tl_2020_55_block_total_pop.json'\n",
    "clusters_dir = None\n",
    "clusters_path = None #'../../WI/data/WI_phaseC_20210929_fixed.csv'\n",
    "vtd_graph_path = None #'/Users/pjrule/Dropbox/MGGG/plan-evaluation-reporting/dual_graphs/wi_vtds_0_indexed.json'\n",
    "baf_path = None #'../../WI/data/BlockAssign_ST55_WI'\n",
    "chain_path = None #'/Users/pjrule/Dropbox/raw_chains_6_10_2021/wisconsin_state_house_0.05_bal_100000_steps_county_aware.chain'\n",
    "excluded_clusters = None\n",
    "use_clusters = True\n",
    "vtd_level_assignments = True\n",
    "hierarchical_paths = True\n",
    "selected_clusters = ('4', '5', '6', '7-1', '7-2', '8-1', '8-2', '8-3')\n",
    "state_fips_code = '55'\n",
    "exclude_subclusters = True\n",
    "selected_plans = [\n",
    "   {'id': 'congress/PMC-Congress-VTDs', 'label': 'PMC', 'color': 'tab:green'},\n",
    "   {'id': 'congress/Enacted-VTDs', 'label': 'Enacted', 'color': 'tab:blue'},\n",
    "]"
   ]
  },
  {
   "cell_type": "raw",
   "id": "05f67a61-829f-471b-a64b-b64d23f2e91d",
   "metadata": {},
   "source": [
    "output_dir = '../../MI/outputs'\n",
    "output_prefix = 'mi_congress_coi_preservation'\n",
    "figure_title = 'COI preservation in Michigan (Congress)'\n",
    "block_shapefile_path = '../../MI/data/tl_2020_26_tabblock20'\n",
    "proj = 'EPSG:32616'\n",
    "plans_path = '../../MI/data/proposed_plans'\n",
    "block_pops_path = '../../MI/data/tl_2020_26_block_total_pop.json'\n",
    "clusters_dir = 'MI_20210911_phase_C'\n",
    "clusters_path = None\n",
    "vtd_graph_path = '/Users/pjrule/Dropbox/MGGG/plan-evaluation-reporting/dual_graphs/mi_vtds_0_indexed.json'\n",
    "vtd_block_equivalency = '../../MI/data/BlockAssign_ST26_MI/BlockAssign_ST26_MI_VTD.txt'\n",
    "chain_path = '/Users/pjrule/Dropbox/raw_chains_6_10_2021/michigan_state_house_0.05_bal_100000_steps_county_aware.chain'\n",
    "excluded_clusters = [\"5\", \"14\", \"15\", \"17\", \"26\", \"32\", \"33\", \"34\"]\n",
    "\n",
    "selected_plans = [\n",
    "    {\n",
    "        \"id\": \"state_house/Oak\",\n",
    "        \"label\": \"Oak\",\n",
    "        \"color\": \"#8B785C\"\n",
    "    },\n",
    "    {\n",
    "        \"id\": \"state_house/Peach\",\n",
    "        \"label\": \"Peach\",\n",
    "        \"color\": \"#E6994C\"\n",
    "    },\n",
    "    {\n",
    "        \"id\": \"state_house/Pine\",\n",
    "        \"label\": \"Pine\",\n",
    "        \"color\": \"#254A47\"\n",
    "    }\n",
    "]\n",
    "state_fips_code = '26'"
   ]
  },
  {
   "cell_type": "code",
   "execution_count": null,
   "id": "126fb922-2969-4ede-b8f4-357cbad7e40b",
   "metadata": {},
   "outputs": [],
   "source": [
    "os.makedirs(os.path.join(output_dir, output_prefix), exist_ok=True)"
   ]
  },
  {
   "cell_type": "code",
   "execution_count": null,
   "id": "2e1e2e23-c1e0-4a5d-9057-e09ee63dd89e",
   "metadata": {},
   "outputs": [],
   "source": [
    "if clusters_dir is not None:\n",
    "  clusters_path = os.path.join(output_dir, clusters_dir, 'csv_geo')"
   ]
  },
  {
   "cell_type": "code",
   "execution_count": null,
   "id": "b8d6286d-625b-4567-9bfc-fa98aaf9c421",
   "metadata": {},
   "outputs": [],
   "source": [
    "selected_plan_ids = {p['id'] for p in selected_plans}"
   ]
  },
  {
   "cell_type": "code",
   "execution_count": null,
   "id": "0a7ad895-3756-4c69-926a-90bf927605c0",
   "metadata": {},
   "outputs": [],
   "source": [
    "graph = Graph.from_json(vtd_graph_path)"
   ]
  },
  {
   "cell_type": "code",
   "execution_count": null,
   "id": "f09f14ea-7865-4fcb-a5dc-80af0e5b047f",
   "metadata": {},
   "outputs": [],
   "source": [
    "if vtd_level_assignments:\n",
    "  vtd_block_path = os.path.join(baf_path, baf_path.split('/')[-1] + '_VTD.txt')\n",
    "  vtd_block_df = pd.read_csv(vtd_block_path, sep='|', dtype=str).set_index('BLOCKID')\n",
    "  vtd_block_df['vtd_id'] = state_fips_code + vtd_block_df['COUNTYFP'].str.zfill(3) + vtd_block_df['DISTRICT'].str.zfill(6)\n",
    "  blocks_by_vtd = defaultdict(set)\n",
    "  for block, vtd in vtd_block_df['vtd_id'].items():\n",
    "    blocks_by_vtd[vtd].add(block)"
   ]
  },
  {
   "cell_type": "code",
   "execution_count": null,
   "id": "2212a43c-dbf5-4159-8a7f-9225bcb6a1f0",
   "metadata": {},
   "outputs": [],
   "source": [
    "if clusters_path is not None and clusters_path.endswith('.csv'):\n",
    "  clusters_df = pd.read_csv(clusters_path).set_index('id')\n",
    "  clusters_df['blocks_2020'] = clusters_df['blocks_2020'].apply(literal_eval)\n",
    "  if use_clusters:\n",
    "    if selected_clusters is not None:\n",
    "      clusters_df = clusters_df[clusters_df['clusters'].isin(selected_clusters)]\n",
    "    blocks_by_coi = {coi: set(blocks) for coi, blocks in clusters_df['blocks_2020'].items()}\n",
    "\n",
    "\n",
    "elif use_clusters:\n",
    "  blocks_by_coi = {}\n",
    "  for cluster_csv in os.listdir(clusters_path):\n",
    "    if cluster_csv.endswith('.csv'):\n",
    "      cluster_id = cluster_csv[:-4].split('_')[-1][1:]\n",
    "      if not exclude_subclusters or (exclude_subclusters and '-' not in cluster_id):\n",
    "        blocks_by_coi[cluster_id] = set(pd.read_csv(os.path.join(clusters_path, cluster_csv))['GEOID20'].astype(str))"
   ]
  },
  {
   "cell_type": "code",
   "execution_count": null,
   "id": "366ec2dc-2740-4fca-92d9-404ea913c94f",
   "metadata": {},
   "outputs": [],
   "source": [
    "block_pop_df = pd.read_json(block_pops_path)\n",
    "block_pop_df['GEOID20'] = (\n",
    "  block_pop_df['state'].astype(str)  +\n",
    "  block_pop_df['county'].astype(str).str.zfill(3) + \n",
    "  block_pop_df['tract'].astype(str).str.zfill(6) + \n",
    "  block_pop_df['block'].astype(str).str.zfill(4)\n",
    ")\n",
    "block_pop_df = block_pop_df.set_index('GEOID20')"
   ]
  },
  {
   "cell_type": "code",
   "execution_count": null,
   "id": "0d095604-60f4-484f-a4af-233af19c6de5",
   "metadata": {},
   "outputs": [],
   "source": [
    "block_pops = dict(block_pop_df['P1_001N'])"
   ]
  },
  {
   "cell_type": "code",
   "execution_count": null,
   "id": "81de7790-4758-4448-8103-c4f0de5ed2aa",
   "metadata": {},
   "outputs": [],
   "source": [
    "if vtd_level_assignments:\n",
    "  node_ordering = {k: idx for idx, k in enumerate(blocks_by_vtd.keys())}\n",
    "  num_units = len(blocks_by_vtd)\n",
    "else:\n",
    "  node_ordering = {k: idx for idx, k in enumerate(graph.nodes)}\n",
    "  node_geoid_ordering = {\n",
    "    graph.nodes[k]['GEOID20']: idx\n",
    "    for idx, k in enumerate(graph.nodes)\n",
    "  }\n",
    "  num_units = len(graph.nodes)"
   ]
  },
  {
   "cell_type": "code",
   "execution_count": null,
   "id": "4a933abe-4960-4951-bf3b-998166f78062",
   "metadata": {},
   "outputs": [],
   "source": [
    "unit_coi_inter_pops = np.zeros((len(blocks_by_coi), num_units))\n",
    "if vtd_level_assignments:\n",
    "  for vtd_idx, (vtd, vtd_blocks) in tqdm(enumerate(blocks_by_vtd.items())):\n",
    "    for coi_idx, (coi, coi_blocks) in enumerate(blocks_by_coi.items()):\n",
    "      unit_coi_inter_pops[coi_idx, vtd_idx] = sum(\n",
    "        block_pops[b]\n",
    "        for b in vtd_blocks & coi_blocks\n",
    "      )\n",
    "else:\n",
    "  for coi_idx, coi_blocks in enumerate(blocks_by_coi.values()):\n",
    "    for block in coi_blocks:\n",
    "      unit_coi_inter_pops[coi_idx, node_geoid_ordering[block]] = block_pops[block]\n",
    "      \n",
    "unit_coi_inter_pops = sparse.csr_matrix(unit_coi_inter_pops)"
   ]
  },
  {
   "cell_type": "code",
   "execution_count": null,
   "id": "b4cfd74b-b04f-4409-950c-5bfab7da0002",
   "metadata": {},
   "outputs": [],
   "source": [
    "coi_pops = np.array([sum(block_pops[b] for b in blocks) for blocks in blocks_by_coi.values()])"
   ]
  },
  {
   "cell_type": "code",
   "execution_count": null,
   "id": "2483c2f7-95c5-40bb-a649-22a8e6ba331c",
   "metadata": {},
   "outputs": [],
   "source": [
    "totpop_col = 'TOTPOP20' if 'TOTPOP20' in graph.nodes[0] else 'TOTPOP'"
   ]
  },
  {
   "cell_type": "code",
   "execution_count": null,
   "id": "30d14fe9-a3cd-4de5-b863-d6ab10dfda60",
   "metadata": {},
   "outputs": [],
   "source": [
    "if vtd_level_assignments:\n",
    "  unit_pops_by_geoid = {data['GEOID20']: data[totpop_col] for _, data in graph.nodes(data=True)}\n",
    "  unit_pops = np.array([unit_pops_by_geoid.get(vtd, 0.0) for vtd in blocks_by_vtd])\n",
    "  unit_pops_alt = np.array([sum(block_pops[b] for b in blocks) for vtd, blocks in blocks_by_vtd.items()])\n",
    "  assert np.abs(unit_pops_alt - unit_pops).sum() < 20\n",
    "else:\n",
    "  unit_pops = np.array([block_pops[graph.nodes[k]['GEOID20']] for k in node_ordering.values()])"
   ]
  },
  {
   "cell_type": "code",
   "execution_count": null,
   "id": "7997e281-f7a1-4686-bf77-16170f6396e9",
   "metadata": {},
   "outputs": [],
   "source": [
    "totpop = unit_pops.sum()"
   ]
  },
  {
   "cell_type": "code",
   "execution_count": null,
   "id": "b1e01a9b-8dec-46dd-9dec-cc584d31133c",
   "metadata": {},
   "outputs": [],
   "source": [
    "plans = {}\n",
    "for outer_path, _, filenames in os.walk(plans_path):\n",
    "  for filename in filenames:\n",
    "    full_path = os.path.join(outer_path, filename)\n",
    "    if hierarchical_paths:\n",
    "      short_name = '/'.join(full_path[:-4].split('/')[-2:])\n",
    "    else:\n",
    "      short_name = full_path[:-4].split('/')[-1]\n",
    "    if filename.endswith('.csv') and short_name in selected_plan_ids:\n",
    "      df = pd.read_csv(full_path)\n",
    "      if 'GEOID20' in df.columns:\n",
    "        df['GEOID20'] = df['GEOID20'].astype(str)\n",
    "        assignment = dict(df.set_index('GEOID20')['assignment'])\n",
    "        plans[short_name] = assignment\n",
    "      elif 'BLOCKID' in df.columns:\n",
    "        assert len(df.columns) == 2\n",
    "        assignment_col = [col for col in df.columns if col != 'BLOCKID'][0]\n",
    "        df['BLOCKID'] = df['BLOCKID'].astype(str)\n",
    "        assignment = dict(df.set_index('BLOCKID')[assignment_col])\n",
    "        plans[short_name] = assignment"
   ]
  },
  {
   "cell_type": "code",
   "execution_count": null,
   "id": "5330b908-8d57-4afb-8a62-23a3e6c07687",
   "metadata": {},
   "outputs": [],
   "source": [
    "def geoid_assignment_to_matrix(assignment):\n",
    "  \"\"\"Converts a 1-indexed assignment vector to a per-district binary encoding.\"\"\"\n",
    "  min_assignment = min(assignment.values())\n",
    "  assert min_assignment in (0, 1)\n",
    "  dist_mat = np.zeros((num_units, max(assignment.values()) + (1 - min_assignment)))\n",
    "  for node, dist in assignment.items():\n",
    "    if vtd_level_assignments:\n",
    "      dist_mat[node_ordering[node], int(dist) - min_assignment] = 1\n",
    "    else:\n",
    "      dist_mat[node_geoid_ordering[node], int(dist) - min_assignment] = 1\n",
    "  return dist_mat"
   ]
  },
  {
   "cell_type": "code",
   "execution_count": null,
   "id": "91eec272-5261-4a22-93d9-eb6e5856a117",
   "metadata": {},
   "outputs": [],
   "source": [
    "def assignment_to_matrix(assignment):\n",
    "  \"\"\"Converts a 1-indexed assignment vector to a per-district binary encoding.\"\"\"\n",
    "  assert min(assignment.values()) == 1\n",
    "  dist_mat = np.zeros((num_units, max(assignment.values())))\n",
    "  for node, dist in assignment.items():\n",
    "    dist_mat[node_ordering[graph.nodes[node]['GEOID20']], int(dist) - 1] = 1\n",
    "  return dist_mat"
   ]
  },
  {
   "cell_type": "code",
   "execution_count": null,
   "id": "7bce1c56-21b5-447a-aa52-53db810df1a2",
   "metadata": {},
   "outputs": [],
   "source": [
    "def thresholded_scores(dist_mat, threshold_intervals=20):\n",
    "  # First criterion: X% of a COI is contained in a single district.\n",
    "  coi_dist_pops = unit_coi_inter_pops @ dist_mat\n",
    "  max_district_pop_in_coi = np.max(coi_dist_pops, axis=1)  \n",
    "  score_by_threshold = {}\n",
    "  ideal_dist_pop = totpop / dist_mat.shape[1]\n",
    "  for threshold in range(int(32 * threshold_intervals), 40 * threshold_intervals - 40):\n",
    "    normed_threshold = threshold / (40 * threshold_intervals)\n",
    "    score_by_threshold[normed_threshold] = np.logical_or(\n",
    "        max_district_pop_in_coi >= normed_threshold * ideal_dist_pop,\n",
    "        max_district_pop_in_coi >= normed_threshold * coi_pops\n",
    "    ).sum()\n",
    "  return score_by_threshold"
   ]
  },
  {
   "cell_type": "code",
   "execution_count": null,
   "id": "792a3aba-b8fd-4f3a-87ad-01616f3ba7bd",
   "metadata": {},
   "outputs": [],
   "source": [
    "plan_scores = {\n",
    "  plan_id: thresholded_scores(geoid_assignment_to_matrix(assn))\n",
    "  for plan_id, assn in plans.items()\n",
    "}"
   ]
  },
  {
   "cell_type": "code",
   "execution_count": null,
   "id": "e64a01f4-d58c-4f90-8eb7-978e22f766ef",
   "metadata": {},
   "outputs": [],
   "source": [
    "chain_scores = []\n",
    "if chain_path:\n",
    "  for idx, partition in tqdm(enumerate(Replay(graph, chain_path))):\n",
    "    chain_scores.append(thresholded_scores(assignment_to_matrix(partition.assignment)))\n",
    "    #if idx >= 1000: break"
   ]
  },
  {
   "cell_type": "code",
   "execution_count": null,
   "id": "452a1c83-4895-4da0-a2af-3bef93c54239",
   "metadata": {},
   "outputs": [],
   "source": [
    "fig, ax = plt.subplots(figsize=(6, 6))\n",
    "for plan in selected_plans:\n",
    "  ax.plot(plan_scores[plan['id']].keys(), plan_scores[plan['id']].values(), label=plan['label'], color=plan['color'])\n",
    "ax.set_xlabel('Threshold')\n",
    "ax.set_ylabel('Score')\n",
    "ax.set_title(figure_title)\n",
    "plt.legend()\n",
    "plt.savefig(os.path.join(output_dir, output_prefix, f'{output_prefix}_traces.png'), dpi=300)\n",
    "plt.show()"
   ]
  },
  {
   "cell_type": "code",
   "execution_count": null,
   "id": "54c1466a-a737-43f9-9942-452a8b4be913",
   "metadata": {},
   "outputs": [],
   "source": [
    "for threshold in plan_scores[next(iter(plan_scores))]:\n",
    "  fig, ax = plt.subplots(figsize=(8, 8))\n",
    "  ax.hist([c[threshold] for c in chain_scores], alpha=0.3, density=True, label='County-aware ensemble', color='k')\n",
    "  for plan in selected_plans:\n",
    "    ax.axvline(plan_scores[plan['id']][threshold], color=plan['color'], label=f\"{plan['label']} ({plan_scores[plan['id']][threshold]})\", linewidth=3)\n",
    "  ax.set_xlabel(f'Score ({int(threshold * 1000) / 10}% population inclusion)')\n",
    "  ax.set_ylabel('Ensemble frequency')\n",
    "  ax.set_title(figure_title)\n",
    "  plt.legend()\n",
    "  plt.savefig(os.path.join(output_dir, output_prefix, f'{output_prefix}_hist_{threshold}.png'), dpi=300)\n",
    "  plt.close()"
   ]
  },
  {
   "cell_type": "code",
   "execution_count": null,
   "id": "a0e3a532-6f6d-43bf-9a54-2e267c978342",
   "metadata": {},
   "outputs": [],
   "source": []
  }
 ],
 "metadata": {
  "kernelspec": {
   "display_name": "Python 3 (ipykernel)",
   "language": "python",
   "name": "python3"
  },
  "language_info": {
   "codemirror_mode": {
    "name": "ipython",
    "version": 3
   },
   "file_extension": ".py",
   "mimetype": "text/x-python",
   "name": "python",
   "nbconvert_exporter": "python",
   "pygments_lexer": "ipython3",
   "version": "3.9.6"
  }
 },
 "nbformat": 4,
 "nbformat_minor": 5
}
