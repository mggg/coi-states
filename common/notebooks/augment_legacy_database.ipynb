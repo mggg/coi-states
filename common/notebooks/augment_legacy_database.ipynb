{
 "cells": [
  {
   "cell_type": "code",
   "execution_count": null,
   "id": "34c9a6ef-ca4e-4e2b-ba8b-c59bf0528b19",
   "metadata": {},
   "outputs": [],
   "source": [
    "import io\n",
    "import os\n",
    "import sys\n",
    "import json\n",
    "import pickle\n",
    "from submission_analysis import ccdb\n",
    "sys.modules['ccdb'] = ccdb  # pickle compatibility"
   ]
  },
  {
   "cell_type": "code",
   "execution_count": null,
   "id": "2077b55c-3a66-4769-83e0-2403561947b2",
   "metadata": {
    "tags": [
     "parameters"
    ]
   },
   "outputs": [],
   "source": [
    "data_dir = '../../MI/data'\n",
    "db_path = '../../MI/data/mi_cluster_db_20210809.pkl'\n",
    "labeled_submissions_path = '../../MI/data/MI_dump_20210815.jsonl'\n",
    "submissions_index_path = '../../MI/data/mi_submissions_index_20210816.json'\n",
    "output_filename = 'mi_cluster_db_20210809_new_format.pkl'"
   ]
  },
  {
   "cell_type": "markdown",
   "id": "9b4f97b8-dfcf-4c62-9786-c3cc8813a5f5",
   "metadata": {},
   "source": [
    "### Old database"
   ]
  },
  {
   "cell_type": "code",
   "execution_count": null,
   "id": "52a1dcde-09e5-4f0a-8f5a-15d01ef0eb34",
   "metadata": {},
   "outputs": [],
   "source": [
    "db = pickle.load(open(db_path, 'rb'))"
   ]
  },
  {
   "cell_type": "markdown",
   "id": "09354236-0679-495f-9c61-78135d7c67c3",
   "metadata": {},
   "source": [
    "### Submission labels"
   ]
  },
  {
   "cell_type": "code",
   "execution_count": null,
   "id": "4a7f8828-5d11-4bea-8b4f-5fa2ea2ad252",
   "metadata": {},
   "outputs": [],
   "source": [
    "labeled_submissions = [\n",
    "  json.loads(line)\n",
    "  for line in open(labeled_submissions_path).readlines()\n",
    "]"
   ]
  },
  {
   "cell_type": "code",
   "execution_count": null,
   "id": "be03fd3a-478b-47ca-8c33-0f14b6dc9a3a",
   "metadata": {},
   "outputs": [],
   "source": [
    "labeled_submission_ids = set(sub['id'] for sub in labeled_submissions)"
   ]
  },
  {
   "cell_type": "code",
   "execution_count": null,
   "id": "6437ebfd-9176-4145-8b7d-b9fb2a3a2dae",
   "metadata": {},
   "outputs": [],
   "source": [
    "labeled_cois = [\n",
    "  submission\n",
    "  for submission in labeled_submissions\n",
    "  if submission.get('pseudo_coi') == True or submission['type'] == 'coi'\n",
    "]"
   ]
  },
  {
   "cell_type": "code",
   "execution_count": null,
   "id": "cff711c9-8fcf-46b2-90b6-fb5df57f9463",
   "metadata": {},
   "outputs": [],
   "source": [
    "all_coi_labels_by_id = {\n",
    "  submission['id']: set.union(\n",
    "    *(set(annotation['labels'])\n",
    "      for annotation in submission['annotations'].values())\n",
    "  )\n",
    "  for submission in labeled_cois\n",
    "}\n",
    "\n",
    "coi_labels_by_id = {\n",
    "  submission_id: labels\n",
    "  for submission_id, labels in all_coi_labels_by_id.items()\n",
    "  if labels\n",
    "}\n",
    "\n",
    "all_titles_by_id = {\n",
    "  submission['id']: submission['title']\n",
    "  for submission in labeled_cois\n",
    "}"
   ]
  },
  {
   "cell_type": "markdown",
   "id": "2cc5c2f3-f719-4c28-be70-b3d9f31774b6",
   "metadata": {},
   "source": [
    "### Submissions index"
   ]
  },
  {
   "cell_type": "code",
   "execution_count": null,
   "id": "52ee720d-2ea6-4596-9324-d2d5c6652292",
   "metadata": {},
   "outputs": [],
   "source": [
    "submissions_index = json.load(open(submissions_index_path))['submissionPreviews']\n",
    "plan_id_to_submission_id = {\n",
    "  sub['link'].split('/')[-1].split('?')[0].strip(): str(sub['id'])\n",
    "  for sub in submissions_index\n",
    "  if 'link' in sub and sub['link'] is not None\n",
    "}\n",
    "plan_id_to_submission_prefix = {\n",
    "  sub['link'].split('/')[-1].split('?')[0].strip(): sub['type'][0]\n",
    "  for sub in submissions_index\n",
    "  if 'link' in sub and sub['link'] is not None\n",
    "}\n",
    "submission_id_to_plan_id = {v: k for k, v in plan_id_to_submission_id.items()}"
   ]
  },
  {
   "cell_type": "code",
   "execution_count": null,
   "id": "ce98d7c6-dced-4863-9ced-cec716b1630a",
   "metadata": {},
   "outputs": [],
   "source": [
    "def pid_to_sid_with_prefix(plan_id):\n",
    "  pid, part = plan_id.strip().split('-')\n",
    "  prefix = plan_id_to_submission_prefix[pid.strip()]\n",
    "  sid_no_part = plan_id_to_submission_id[pid.strip()]\n",
    "  if sid_no_part in labeled_submission_ids:\n",
    "    return prefix + sid_no_part\n",
    "  return prefix + sid_no_part + '-' + part.strip()"
   ]
  },
  {
   "cell_type": "markdown",
   "id": "cf4c9a24-e09a-4db8-87a7-cf413f32f9dd",
   "metadata": {},
   "source": [
    "### New columns"
   ]
  },
  {
   "cell_type": "code",
   "execution_count": null,
   "id": "69d4b205-0a0c-4473-9bd3-8b945e3a5df1",
   "metadata": {},
   "outputs": [],
   "source": [
    "db.coi_data['id'] = db.coi_data.index.to_series().apply(pid_to_sid_with_prefix)\n",
    "db.coi_data['labels'] = db.coi_data['id'].apply(lambda pid: list(coi_labels_by_id.get(pid[1:], []))).apply(str)\n",
    "db.coi_data['submission_title'] = db.coi_data['id'].apply(lambda pid: all_titles_by_id.get(pid[1:], '')).apply(str)"
   ]
  },
  {
   "cell_type": "code",
   "execution_count": null,
   "id": "a9dc4d1f-cb9d-4f82-a3e2-f026b0ed997d",
   "metadata": {},
   "outputs": [],
   "source": [
    "db.coi_data['districtr_id'] = db.coi_data.index.to_series()\n",
    "db.coi_data = db.coi_data.set_index('id')"
   ]
  },
  {
   "cell_type": "markdown",
   "id": "b6f9f405-6e17-4149-84a7-041fc6797103",
   "metadata": {},
   "source": [
    "### New location data format "
   ]
  },
  {
   "cell_type": "code",
   "execution_count": null,
   "id": "5cab15b6-0467-461d-bd45-82f4d0a3323a",
   "metadata": {},
   "outputs": [],
   "source": [
    "coi_tiles = []\n",
    "for row in db.coi_location_data.to_dict(orient='records'):\n",
    "  coi_tiles.append([\n",
    "    block_group\n",
    "    for block_group, in_coi in row.items()\n",
    "    if in_coi == 1\n",
    "  ])"
   ]
  },
  {
   "cell_type": "code",
   "execution_count": null,
   "id": "a50ff637-15ab-484c-b31e-93b8119f20b1",
   "metadata": {},
   "outputs": [],
   "source": [
    "db.coi_data['tiles'] = db.coi_data['block_groups_2010'] = coi_tiles"
   ]
  },
  {
   "cell_type": "code",
   "execution_count": null,
   "id": "890544d1-2ec1-44ac-accc-29574c20de6e",
   "metadata": {},
   "outputs": [],
   "source": [
    "# A horrible hack to get around moving the `ccdb` module.\n",
    "from submission_analysis import ccdb as ccdb_new\n",
    "db_new = object.__new__(ccdb_new.coi_cluster_database)\n",
    "\n",
    "db_new.coi_data = db.coi_data\n",
    "db_new.coi_total_dissimilarities = db.coi_total_dissimilarities\n",
    "db_new.dendrogram = db.dendrogram\n",
    "db_new.dual_graph = db.dual_graph\n",
    "\n",
    "with open(os.path.join(data_dir, output_filename), 'wb') as f:\n",
    "  pickle.dump(db_new, f)"
   ]
  }
 ],
 "metadata": {
  "kernelspec": {
   "display_name": "Python 3 (ipykernel)",
   "language": "python",
   "name": "python3"
  },
  "language_info": {
   "codemirror_mode": {
    "name": "ipython",
    "version": 3
   },
   "file_extension": ".py",
   "mimetype": "text/x-python",
   "name": "python",
   "nbconvert_exporter": "python",
   "pygments_lexer": "ipython3",
   "version": "3.9.6"
  }
 },
 "nbformat": 4,
 "nbformat_minor": 5
}
