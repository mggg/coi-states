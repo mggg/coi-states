{
 "cells": [
  {
   "cell_type": "code",
   "execution_count": null,
   "id": "ce9579a5-5fd7-4e84-bbdb-1ab93ab75e0c",
   "metadata": {},
   "outputs": [],
   "source": [
    "from os.path import join\n",
    "import json\n",
    "import pandas as pd\n",
    "from collections import defaultdict, ChainMap"
   ]
  },
  {
   "cell_type": "code",
   "execution_count": null,
   "id": "69eb9e16-95fc-4bf8-a631-b85af6c4f8ce",
   "metadata": {
    "tags": [
     "parameters"
    ]
   },
   "outputs": [],
   "source": [
    "annotations = {\n",
    "  'B18': {\n",
    "    'path': '../../MI/data/MI_annotations_B18_20210903.jsonl'\n",
    "  },\n",
    "  'B33': {\n",
    "    'path': '../../MI/data/MI_annotations_B33_20210903.jsonl'\n",
    "  }\n",
    "}\n",
    "data_dir = '../../MI/data'\n",
    "submissions_in_path = '../../MI/data/mi_submissions_20210901.csv'\n",
    "submissions_out_filename = 'mi_submissions_20210903.csv'"
   ]
  },
  {
   "cell_type": "code",
   "execution_count": null,
   "id": "911f964f-3960-49dd-bfd6-f45cccfd9aed",
   "metadata": {},
   "outputs": [],
   "source": [
    "submissions_df = pd.read_csv(submissions_in_path).set_index('id')"
   ]
  },
  {
   "cell_type": "code",
   "execution_count": null,
   "id": "92de703f-cd14-414b-8c9e-527cfbf7e267",
   "metadata": {},
   "outputs": [],
   "source": [
    "def load_labels(labels_path):\n",
    "  labeled_submissions = [\n",
    "    json.loads(line)\n",
    "    for line in open(labels_path)\n",
    "  ]\n",
    "  coi_labels_by_id = defaultdict(set)\n",
    "  for submission in labeled_submissions:\n",
    "    labels = set.union(\n",
    "      *(set(annotation['labels'])\n",
    "        for annotation in submission['annotations'].values())\n",
    "    )\n",
    "    coi_labels_by_id[submission['plan_id']] = labels\n",
    "  return coi_labels_by_id"
   ]
  },
  {
   "cell_type": "code",
   "execution_count": null,
   "id": "53760e07-bc89-4e9d-8555-650ded6c179c",
   "metadata": {},
   "outputs": [],
   "source": [
    "labels = dict(ChainMap(\n",
    "  *(load_labels(annotation['path'])\n",
    "    for annotation in annotations.values())\n",
    "))"
   ]
  },
  {
   "cell_type": "code",
   "execution_count": null,
   "id": "a832477a-b717-472a-b9c2-c777e55d75f0",
   "metadata": {},
   "outputs": [],
   "source": [
    "submissions_df['labels'] = submissions_df.index.to_series().apply(lambda _id: list(labels.get(_id, [])))"
   ]
  },
  {
   "cell_type": "code",
   "execution_count": null,
   "id": "fea0d478-45e3-4854-9f9b-7246ce75d97f",
   "metadata": {},
   "outputs": [],
   "source": [
    "submissions_df.to_csv(join(data_dir, submissions_out_filename))"
   ]
  }
 ],
 "metadata": {
  "kernelspec": {
   "display_name": "Python 3 (ipykernel)",
   "language": "python",
   "name": "python3"
  },
  "language_info": {
   "codemirror_mode": {
    "name": "ipython",
    "version": 3
   },
   "file_extension": ".py",
   "mimetype": "text/x-python",
   "name": "python",
   "nbconvert_exporter": "python",
   "pygments_lexer": "ipython3",
   "version": "3.9.6"
  }
 },
 "nbformat": 4,
 "nbformat_minor": 5
}
