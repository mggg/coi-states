{
 "cells": [
  {
   "cell_type": "code",
   "execution_count": null,
   "metadata": {},
   "outputs": [],
   "source": [
    "%config InlineBackend.figure_formats = ['svg']\n",
    "import os\n",
    "import json\n",
    "import pickle\n",
    "import pandas as pd\n",
    "import geopandas as gpd\n",
    "import matplotlib.pyplot as plt\n",
    "from collections import Counter\n",
    "from submission_analysis.crosswalk import Crosswalk\n",
    "from tqdm import tqdm, trange\n",
    "from scipy.cluster import hierarchy"
   ]
  },
  {
   "cell_type": "code",
   "execution_count": null,
   "metadata": {
    "tags": [
     "parameters"
    ]
   },
   "outputs": [],
   "source": [
    "db_path = '../../WI/data/wi_cluster_db_20210820.pkl'\n",
    "block_2010_to_block_2020_crosswalk_path = '../../WI/data/tab2010_tab2020_st55_wi.txt'\n",
    "block_2020_shp_path = '../../WI/data/tl_2020_55_tabblock20'\n",
    "county_shp_path = '../data/tl_2020_us_county'\n",
    "num_clusters = 40\n",
    "state_fips_code = '55'\n",
    "cluster_name_prefix = 'A'  # Moon's versioning scheme\n",
    "output_dir = '../../WI/outputs'\n",
    "output_prefix = 'WI_20210822_geo32'\n",
    "crs = 'EPSG:32616'\n",
    "output_formats = ['png'] #['shapefile', 'csv', 'html', 'png']\n",
    "output_columns = ['districtr_id', 'submission_title', 'submission_text', 'area_name', 'area_text', 'labels']\n",
    "excluded_submissions = {}\n",
    "reassigned_submissions = {}"
   ]
  },
  {
   "cell_type": "code",
   "execution_count": null,
   "metadata": {
    "id": "3zk8P6Ejvp11"
   },
   "outputs": [],
   "source": [
    "db = pickle.load(open(db_path, 'rb'))"
   ]
  },
  {
   "cell_type": "code",
   "execution_count": null,
   "metadata": {
    "colab": {
     "base_uri": "https://localhost:8080/",
     "height": 606
    },
    "id": "Et9u5A9ywVyS",
    "outputId": "b365e266-8827-4fe0-cb89-2deb4bc4d7a4"
   },
   "outputs": [],
   "source": [
    "clusters = db.clusters_from_number(num_clusters)"
   ]
  },
  {
   "cell_type": "code",
   "execution_count": null,
   "metadata": {},
   "outputs": [],
   "source": [
    "cw = Crosswalk(block_2010_to_block_2020_crosswalk_path)"
   ]
  },
  {
   "cell_type": "code",
   "execution_count": null,
   "metadata": {},
   "outputs": [],
   "source": [
    "blocks_2020_gdf = gpd.read_file(block_2020_shp_path).set_index('GEOID20').to_crs(crs)"
   ]
  },
  {
   "cell_type": "code",
   "execution_count": null,
   "metadata": {},
   "outputs": [],
   "source": [
    "counties_gdf = gpd.read_file(county_shp_path).to_crs(crs)\n",
    "counties_gdf = counties_gdf[counties_gdf['STATEFP'] == state_fips_code]"
   ]
  },
  {
   "cell_type": "markdown",
   "metadata": {},
   "source": [
    "## ✂️ Cluster surgery ✂️"
   ]
  },
  {
   "cell_type": "code",
   "execution_count": null,
   "metadata": {},
   "outputs": [],
   "source": [
    "clusters['clusters'] = clusters.apply(\n",
    "  lambda row: reassigned_submissions.get(str(row.name), row['clusters']),\n",
    "  axis=1\n",
    ")\n",
    "clusters = clusters[~clusters.index.isin(excluded_submissions)].copy()\n",
    "db.coi_data = db.coi_data[~db.coi_data.index.isin(excluded_submissions)]"
   ]
  },
  {
   "cell_type": "markdown",
   "metadata": {},
   "source": [
    "## Frequencies"
   ]
  },
  {
   "cell_type": "code",
   "execution_count": null,
   "metadata": {},
   "outputs": [],
   "source": [
    "cluster_counts = []\n",
    "for cluster_idx in trange(1, max(clusters['clusters']) + 1):     \n",
    "    cluster_df = clusters[clusters['clusters'] == cluster_idx]\n",
    "    bg_2010_count = Counter()\n",
    "    for bgs in cluster_df['block_groups_2010']:\n",
    "      for bg in bgs:\n",
    "        bg_2010_count[bg] += 1\n",
    "    block_2020_count = Counter()\n",
    "    for bg, count in bg_2010_count.items():\n",
    "      if count > 0:\n",
    "        for block_2020 in cw.map_2010_block_groups([bg]):\n",
    "          block_2020_count[block_2020] += count\n",
    "    cluster_counts.append(block_2020_count)"
   ]
  },
  {
   "cell_type": "code",
   "execution_count": null,
   "metadata": {},
   "outputs": [],
   "source": [
    "clusters = clusters.rename(columns={\n",
    "  'area_text': 'area_name',\n",
    "  'area_name': 'area_text',\n",
    "  'clusters': 'cluster'\n",
    "})\n",
    "for text_col in ('area_name', 'area_text', 'submission_text', 'cluster'):\n",
    "  clusters[text_col] = clusters[text_col].astype(str)\n",
    "  \n",
    "clusters.loc[clusters['area_name'] == 'nan', 'area_name'] = ''\n",
    "clusters.loc[clusters['area_text'] == 'nan', 'area_text'] = ''\n",
    "clusters.loc[clusters['submission_text'] == 'nan', 'submission_text'] = ''\n",
    "clusters.loc[clusters['submission_text'] == '0', 'submission_text'] = ''\n",
    "clusters['cluster'] = cluster_name_prefix + clusters['cluster']\n",
    "clusters.index.name = 'plan_id'"
   ]
  },
  {
   "cell_type": "markdown",
   "metadata": {},
   "source": [
    "## Output formats (per cluster)\n",
    "\n",
    "* `shapefile` – Shapefile containing the subset of 2020 blocks within the cluster, with `count` and `freq` attributes.\n",
    "* `csv` - List of 2020 blocks within the cluster, with `count` and `freq` attributes.\n",
    "* `html` - Table containing COI submissions (including labels) supporting the cluster.\n",
    "* `png` - Block-level heatmap (based on `count`) of the cluster with the state's counties as the basemap.\n",
    "\n",
    "### Attributes\n",
    "* `count` - The number of supporting COIs a block appears in.\n",
    "* `freq` - `count`, but normalized (0-1)."
   ]
  },
  {
   "cell_type": "code",
   "execution_count": null,
   "metadata": {},
   "outputs": [],
   "source": [
    "full_output_dir = os.path.join(output_dir, output_prefix)"
   ]
  },
  {
   "cell_type": "code",
   "execution_count": null,
   "metadata": {},
   "outputs": [],
   "source": [
    "for ext in output_formats:\n",
    "  os.makedirs(os.path.join(full_output_dir, ext), exist_ok=True)"
   ]
  },
  {
   "cell_type": "code",
   "execution_count": null,
   "metadata": {},
   "outputs": [],
   "source": [
    "for cluster_idx, counts in tqdm(enumerate(cluster_counts)):\n",
    "  cluster_id = f'{cluster_name_prefix}{cluster_idx + 1}'\n",
    "  cluster_label = f'{output_prefix}_cluster_{cluster_id}'\n",
    "\n",
    "  df = pd.DataFrame.from_dict(counts, orient='index', columns=['count'])\n",
    "  df.index.name = 'GEOID20'\n",
    "  df['freq'] = df['count'] / df['count'].max()\n",
    "  submissions = clusters[clusters['cluster'] == cluster_id][output_columns]\n",
    "  \n",
    "  if 'csv' in output_formats:\n",
    "    df.to_csv(f'{full_output_dir}/csv/{cluster_label}.csv')\n",
    "    \n",
    "  if 'html' in output_formats:    \n",
    "    submissions.to_html(f'{full_output_dir}/html/{cluster_label}.html', index=False)\n",
    "  \n",
    "  if 'shapefile' in output_formats or 'png' in output_formats:\n",
    "    gdf = gpd.GeoDataFrame(df).join(blocks_2020_gdf[['geometry']])\n",
    "    gdf.crs = crs\n",
    "    \n",
    "    if 'shapefile' in output_formats:\n",
    "      gdf.to_file(f'{full_output_dir}/shapefile/{cluster_label}')\n",
    "      \n",
    "    if 'png' in output_formats:\n",
    "      #gdf = gdf[gdf['count'] >= 3]\n",
    "      blocks_2020_gdf['count'] = gdf['count']\n",
    "      blocks_2020_gdf['count'] = blocks_2020_gdf['count'].fillna(0)\n",
    "      fig, ax = plt.subplots(figsize=(10, 8))\n",
    "      counties_gdf.plot(color='#d8f3dc', edgecolor='#e5e5e5', ax=ax)\n",
    "      gdf.plot(ax=ax, column='count', cmap='viridis_r', linewidth=0,\n",
    "               edgecolor='none', antialiased=False)\n",
    "      ax.axis('off')  \n",
    "      ax.set_title(f\"Cluster {cluster_label} ({len(submissions)} submissions)\")\n",
    "      plt.savefig(f'{full_output_dir}/png/{cluster_label}.png',\n",
    "                  dpi=300, transparent=True, bbox_inches='tight')\n",
    "      plt.show()\n",
    "      plt.close()"
   ]
  },
  {
   "cell_type": "code",
   "execution_count": null,
   "metadata": {},
   "outputs": [],
   "source": []
  }
 ],
 "metadata": {
  "colab": {
   "name": "avg_hausdorff_clustering_for_pipeline.ipynb",
   "provenance": []
  },
  "kernelspec": {
   "display_name": "Python 3 (ipykernel)",
   "language": "python",
   "name": "python3"
  },
  "language_info": {
   "codemirror_mode": {
    "name": "ipython",
    "version": 3
   },
   "file_extension": ".py",
   "mimetype": "text/x-python",
   "name": "python",
   "nbconvert_exporter": "python",
   "pygments_lexer": "ipython3",
   "version": "3.9.6"
  }
 },
 "nbformat": 4,
 "nbformat_minor": 4
}
