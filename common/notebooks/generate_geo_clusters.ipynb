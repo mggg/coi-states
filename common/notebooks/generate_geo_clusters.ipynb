{
 "cells": [
  {
   "cell_type": "code",
   "execution_count": null,
   "id": "f1711f44-f1ce-478f-ab00-9f9fb4e641b2",
   "metadata": {},
   "outputs": [],
   "source": [
    "%config InlineBackend.figure_formats = ['svg']\n",
    "from os import cpu_count\n",
    "from os.path import join\n",
    "from submission_analysis.ccdb import coi_cluster_database"
   ]
  },
  {
   "cell_type": "code",
   "execution_count": null,
   "id": "e9f883f4-7de9-4488-a7e0-d5ba20d07d08",
   "metadata": {
    "tags": [
     "parameters"
    ]
   },
   "outputs": [],
   "source": [
    "dual_graph_path = '../../WI/data/tl_2010_55_bg10.json'\n",
    "submissions_path = '../../WI/data/wi_submissions_20210820_no_media_markets.csv'\n",
    "data_dir = '../../WI/data'\n",
    "output_dir = '../../WI/outputs'\n",
    "distance_file_path = None\n",
    "distance_save_path = 'wi_ward_2020_dists.txt'\n",
    "db_file_path = 'wi_cluster_db_20210820.pkl'"
   ]
  },
  {
   "cell_type": "code",
   "execution_count": null,
   "id": "8f854eb9-80a7-47ed-906c-961d7894c35c",
   "metadata": {
    "tags": []
   },
   "outputs": [],
   "source": [
    "db = coi_cluster_database(\n",
    "  dual_graph_path,\n",
    "  submissions_path,\n",
    "  cpu_count(),\n",
    "  dual_graph_distance_file=None,\n",
    "  dual_graph_distance_save=join(output_dir, distance_save_path),\n",
    "  compressed_coi_data=True,\n",
    "  tiles_col='block_groups_2010'\n",
    ")"
   ]
  },
  {
   "cell_type": "code",
   "execution_count": null,
   "id": "80ee4a90-2d7c-4c47-843f-73e50fd62334",
   "metadata": {},
   "outputs": [],
   "source": [
    "db.plot_dendrogram()"
   ]
  },
  {
   "cell_type": "code",
   "execution_count": null,
   "id": "07b3de05-1b4c-4802-8fa3-b9d902710aae",
   "metadata": {},
   "outputs": [],
   "source": [
    "db.save_db(join(data_dir, db_file_path))"
   ]
  }
 ],
 "metadata": {
  "kernelspec": {
   "display_name": "Python 3 (ipykernel)",
   "language": "python",
   "name": "python3"
  },
  "language_info": {
   "codemirror_mode": {
    "name": "ipython",
    "version": 3
   },
   "file_extension": ".py",
   "mimetype": "text/x-python",
   "name": "python",
   "nbconvert_exporter": "python",
   "pygments_lexer": "ipython3",
   "version": "3.9.6"
  }
 },
 "nbformat": 4,
 "nbformat_minor": 5
}
