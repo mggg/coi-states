{
 "cells": [
  {
   "cell_type": "code",
   "execution_count": 1,
   "id": "5a27a763-9b0a-41c0-9084-5bc9d67be7fd",
   "metadata": {},
   "outputs": [],
   "source": [
    "import os\n",
    "from gerrychain import Graph"
   ]
  },
  {
   "cell_type": "markdown",
   "id": "44ac5175-2471-4ed0-bf61-7290c2fa4456",
   "metadata": {},
   "source": [
    "This is a utility notebook to generate a dual graph from a shapefile using GerryChain."
   ]
  },
  {
   "cell_type": "code",
   "execution_count": 2,
   "id": "3de7456d-0900-45a0-a6de-c2fc18124ea1",
   "metadata": {
    "tags": [
     "parameters"
    ]
   },
   "outputs": [],
   "source": [
    "data_dir = '../../WI/data'\n",
    "shapefile_path = '../../WI/data/tl_2020_55_tabblock20'\n",
    "graph_file_path = 'tl_2020_55_tabblock20.json'"
   ]
  },
  {
   "cell_type": "code",
   "execution_count": null,
   "id": "ed4e4707-abca-4223-ad9b-029ca137499e",
   "metadata": {},
   "outputs": [],
   "source": [
    "graph = Graph.from_file(shapefile_path)"
   ]
  },
  {
   "cell_type": "code",
   "execution_count": null,
   "id": "f063242b-7cda-47ae-9694-8c0e1f9f1cb0",
   "metadata": {},
   "outputs": [],
   "source": [
    "graph.to_json(os.path.join(data_dir, graph_file_path))"
   ]
  }
 ],
 "metadata": {
  "kernelspec": {
   "display_name": "Python 3 (ipykernel)",
   "language": "python",
   "name": "python3"
  },
  "language_info": {
   "codemirror_mode": {
    "name": "ipython",
    "version": 3
   },
   "file_extension": ".py",
   "mimetype": "text/x-python",
   "name": "python",
   "nbconvert_exporter": "python",
   "pygments_lexer": "ipython3",
   "version": "3.9.6"
  }
 },
 "nbformat": 4,
 "nbformat_minor": 5
}
