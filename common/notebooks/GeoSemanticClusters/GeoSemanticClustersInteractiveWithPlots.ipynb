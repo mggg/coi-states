{
 "cells": [
  {
   "cell_type": "markdown",
   "metadata": {},
   "source": [
    "# Geo-Semantic Clustering Interactive Notebook\n",
    "JN Matthews - 19.8.2021\n",
    "(modified by Parker Rule for interoperability with main data pipeline)"
   ]
  },
  {
   "cell_type": "code",
   "execution_count": 1,
   "metadata": {
    "dotnet_interactive": {
     "language": "fsharp"
    }
   },
   "outputs": [
    {
     "data": {
      "text/html": [
       "\r\n",
       "<div>\r\n",
       "    <div id='dotnet-interactive-this-cell-5333.Microsoft.DotNet.Interactive.Http.HttpPort' style='display: none'>\r\n",
       "        The below script needs to be able to find the current output cell; this is an easy method to get it.\r\n",
       "    </div>\r\n",
       "    <script type='text/javascript'>\r\n",
       "async function probeAddresses(probingAddresses) {\r\n",
       "    function timeout(ms, promise) {\r\n",
       "        return new Promise(function (resolve, reject) {\r\n",
       "            setTimeout(function () {\r\n",
       "                reject(new Error('timeout'))\r\n",
       "            }, ms)\r\n",
       "            promise.then(resolve, reject)\r\n",
       "        })\r\n",
       "    }\r\n",
       "\r\n",
       "    if (Array.isArray(probingAddresses)) {\r\n",
       "        for (let i = 0; i < probingAddresses.length; i++) {\r\n",
       "\r\n",
       "            let rootUrl = probingAddresses[i];\r\n",
       "\r\n",
       "            if (!rootUrl.endsWith('/')) {\r\n",
       "                rootUrl = `${rootUrl}/`;\r\n",
       "            }\r\n",
       "\r\n",
       "            try {\r\n",
       "                let response = await timeout(1000, fetch(`${rootUrl}discovery`, {\r\n",
       "                    method: 'POST',\r\n",
       "                    cache: 'no-cache',\r\n",
       "                    mode: 'cors',\r\n",
       "                    timeout: 1000,\r\n",
       "                    headers: {\r\n",
       "                        'Content-Type': 'text/plain'\r\n",
       "                    },\r\n",
       "                    body: probingAddresses[i]\r\n",
       "                }));\r\n",
       "\r\n",
       "                if (response.status == 200) {\r\n",
       "                    return rootUrl;\r\n",
       "                }\r\n",
       "            }\r\n",
       "            catch (e) { }\r\n",
       "        }\r\n",
       "    }\r\n",
       "}\r\n",
       "\r\n",
       "function loadDotnetInteractiveApi() {\r\n",
       "    probeAddresses([\"http://10.245.39.155:1024/\", \"http://127.0.0.1:1024/\"])\r\n",
       "        .then((root) => {\r\n",
       "        // use probing to find host url and api resources\r\n",
       "        // load interactive helpers and language services\r\n",
       "        let dotnetInteractiveRequire = require.config({\r\n",
       "        context: '5333.Microsoft.DotNet.Interactive.Http.HttpPort',\r\n",
       "                paths:\r\n",
       "            {\r\n",
       "                'dotnet-interactive': `${root}resources`\r\n",
       "                }\r\n",
       "        }) || require;\r\n",
       "\r\n",
       "            window.dotnetInteractiveRequire = dotnetInteractiveRequire;\r\n",
       "\r\n",
       "            window.configureRequireFromExtension = function(extensionName, extensionCacheBuster) {\r\n",
       "                let paths = {};\r\n",
       "                paths[extensionName] = `${root}extensions/${extensionName}/resources/`;\r\n",
       "                \r\n",
       "                let internalRequire = require.config({\r\n",
       "                    context: extensionCacheBuster,\r\n",
       "                    paths: paths,\r\n",
       "                    urlArgs: `cacheBuster=${extensionCacheBuster}`\r\n",
       "                    }) || require;\r\n",
       "\r\n",
       "                return internalRequire\r\n",
       "            };\r\n",
       "        \r\n",
       "            dotnetInteractiveRequire([\r\n",
       "                    'dotnet-interactive/dotnet-interactive'\r\n",
       "                ],\r\n",
       "                function (dotnet) {\r\n",
       "                    dotnet.init(window);\r\n",
       "                },\r\n",
       "                function (error) {\r\n",
       "                    console.log(error);\r\n",
       "                }\r\n",
       "            );\r\n",
       "        })\r\n",
       "        .catch(error => {console.log(error);});\r\n",
       "    }\r\n",
       "\r\n",
       "// ensure `require` is available globally\r\n",
       "if ((typeof(require) !==  typeof(Function)) || (typeof(require.config) !== typeof(Function))) {\r\n",
       "    let require_script = document.createElement('script');\r\n",
       "    require_script.setAttribute('src', 'https://cdnjs.cloudflare.com/ajax/libs/require.js/2.3.6/require.min.js');\r\n",
       "    require_script.setAttribute('type', 'text/javascript');\r\n",
       "    \r\n",
       "    \r\n",
       "    require_script.onload = function() {\r\n",
       "        loadDotnetInteractiveApi();\r\n",
       "    };\r\n",
       "\r\n",
       "    document.getElementsByTagName('head')[0].appendChild(require_script);\r\n",
       "}\r\n",
       "else {\r\n",
       "    loadDotnetInteractiveApi();\r\n",
       "}\r\n",
       "\r\n",
       "    </script>\r\n",
       "</div>"
      ]
     },
     "metadata": {},
     "output_type": "display_data"
    },
    {
     "data": {
      "text/html": [
       "<div><div></div><div></div><div><strong>Installed Packages</strong><ul><li><span>FSharp.Data, 4.2.2</span></li><li><span>MathNet.Numerics.FSharp, 4.15.0</span></li><li><span>Newtonsoft.Json, 12.0.3</span></li><li><span>Plotly.NET, 2.0.0-beta9</span></li><li><span>Plotly.NET.Interactive, 2.0.0-beta9</span></li></ul></div></div>"
      ]
     },
     "metadata": {},
     "output_type": "display_data"
    },
    {
     "data": {
      "text/markdown": [
       "Loading extensions from `Plotly.NET.Interactive.dll`"
      ]
     },
     "metadata": {},
     "output_type": "display_data"
    },
    {
     "data": {
      "text/markdown": [
       "Added Kernel Extension including formatters for GenericChart"
      ]
     },
     "metadata": {},
     "output_type": "display_data"
    }
   ],
   "source": [
    "#r \"nuget: MathNet.Numerics.FSharp, 4.15.0\"\n",
    "#r \"nuget:FSharp.Data\"\n",
    "#r \"nuget: Plotly.NET, 2.0.0-beta9\"\n",
    "#r \"nuget: Plotly.NET.Interactive, 2.0.0-beta9\"\n",
    "#r \"nuget: Newtonsoft.Json, 12.0.3\""
   ]
  },
  {
   "cell_type": "code",
   "execution_count": 2,
   "metadata": {
    "dotnet_interactive": {
     "language": "fsharp"
    }
   },
   "outputs": [
    {
     "name": "stderr",
     "output_type": "stream",
     "text": [
      "\n",
      "/Users/pjrule/Dropbox/MGGG/coi-states/common/notebooks/GeoSemanticClusters/GeoSemanticClusters.fs (101,1)-(110,92) typecheck warning This XML comment is invalid: unknown parameter 'currentGeoScore'\n",
      "\n",
      "/Users/pjrule/Dropbox/MGGG/coi-states/common/notebooks/GeoSemanticClusters/GeoSemanticClusters.fs (101,1)-(110,92) typecheck warning This XML comment is invalid: unknown parameter 'currentSemanticScore'\n",
      "\n",
      "/Users/pjrule/Dropbox/MGGG/coi-states/common/notebooks/GeoSemanticClusters/GeoSemanticClusters.fs (101,1)-(110,92) typecheck warning This XML comment is invalid: unknown parameter 'proposedGeoScore'\n",
      "\n",
      "/Users/pjrule/Dropbox/MGGG/coi-states/common/notebooks/GeoSemanticClusters/GeoSemanticClusters.fs (101,1)-(110,92) typecheck warning This XML comment is invalid: unknown parameter 'proposedSemanticScore'\n",
      "\n",
      "/Users/pjrule/Dropbox/MGGG/coi-states/common/notebooks/GeoSemanticClusters/GeoSemanticClusters.fs (118,1)-(125,87) typecheck warning This XML comment is invalid: unknown parameter 'currentSemanticScore'\n",
      "\n",
      "/Users/pjrule/Dropbox/MGGG/coi-states/common/notebooks/GeoSemanticClusters/GeoSemanticClusters.fs (118,1)-(125,87) typecheck warning This XML comment is invalid: unknown parameter 'proposedSemanticScore'\n",
      "\n",
      "/Users/pjrule/Dropbox/MGGG/coi-states/common/notebooks/GeoSemanticClusters/GeoSemanticClusters.fs (133,1)-(140,87) typecheck warning This XML comment is invalid: unknown parameter 'currentGeoScore'\n",
      "\n",
      "/Users/pjrule/Dropbox/MGGG/coi-states/common/notebooks/GeoSemanticClusters/GeoSemanticClusters.fs (133,1)-(140,87) typecheck warning This XML comment is invalid: unknown parameter 'proposedGeoScore'\n",
      "\n"
     ]
    }
   ],
   "source": [
    "#load \"/Users/pjrule/Dropbox/MGGG/coi-states/common/notebooks/GeoSemanticClusters/GeoSemanticClusters.fs\""
   ]
  },
  {
   "cell_type": "code",
   "execution_count": 3,
   "metadata": {
    "dotnet_interactive": {
     "language": "fsharp"
    }
   },
   "outputs": [],
   "source": [
    "open MathNet.Numerics.LinearAlgebra\n",
    "open MathNet.Numerics.Optimization\n",
    "open MathNet.Numerics\n",
    "open FSharp.Data\n",
    "open Plotly.NET\n",
    "open Newtonsoft.Json\n",
    "open System.IO\n",
    "open GeoSemanticClusters"
   ]
  },
  {
   "cell_type": "markdown",
   "metadata": {},
   "source": [
    "### Papermill parameters"
   ]
  },
  {
   "cell_type": "code",
   "execution_count": 4,
   "metadata": {
    "tags": [
     "parameters"
    ]
   },
   "outputs": [],
   "source": [
    "let output_dir = \"/Users/pjrule/MGGG/coi-states/MI/outputs\"\n",
    "let hausdorff_dists_filename = \"mi_cluster_db_20210823_cluster_22_hausdorff_dists.txt\"\n",
    "let jaccard_sims_filename = \"mi_cluster_db_20210823_cluster_22_jaccard_sims.txt\"\n",
    "let output_filename = \"mi_cluster_db_20210823_cluster_22_clustering.json\"\n",
    "let num_bins = 2\n",
    "let beta = 2.\n",
    "let iters = 1000000"
   ]
  },
  {
   "cell_type": "markdown",
   "metadata": {},
   "source": [
    "#### Load metric matricies for documents and initial clustering."
   ]
  },
  {
   "cell_type": "code",
   "execution_count": 5,
   "metadata": {
    "dotnet_interactive": {
     "language": "fsharp"
    }
   },
   "outputs": [],
   "source": [
    "let dists = CsvFile.Load(output_dir + \"/\" + hausdorff_dists_filename,\n",
    "                         separators=\" \", hasHeaders=false).Cache()\n",
    "let sims = CsvFile.Load(output_dir + \"/\" + jaccard_sims_filename,\n",
    "                         separators=\" \", hasHeaders=false).Cache()"
   ]
  },
  {
   "cell_type": "code",
   "execution_count": 6,
   "metadata": {
    "dotnet_interactive": {
     "language": "fsharp"
    }
   },
   "outputs": [],
   "source": [
    "let bins = [1 .. num_bins]\n",
    "let docs = [0 .. dists.NumberOfColumns - 1]"
   ]
  },
  {
   "cell_type": "code",
   "execution_count": 7,
   "metadata": {},
   "outputs": [],
   "source": [
    "// Start with random cluster assignments.\n",
    "// see https://stackoverflow.com/a/58368747\n",
    "let random = new System.Random()\n",
    "let a () = random.Next(1, num_bins + 1)\n",
    "let init = [ for i in 1 .. dists.NumberOfColumns -> a ()]"
   ]
  },
  {
   "cell_type": "code",
   "execution_count": 8,
   "metadata": {
    "dotnet_interactive": {
     "language": "fsharp"
    }
   },
   "outputs": [],
   "source": [
    "let parseDistMatrixFile (rows: seq<CsvRow>) =\n",
    "    rows |> Seq.map (fun r -> docs |> List.map (fun d -> r.[d].AsFloat()) ) |> Seq.toList |> array2D\n",
    "\n",
    "let (geoDistance: GeoScore[,]) = parseDistMatrixFile dists.Rows\n",
    "let (semanticSim: SemanticScore[,]) = parseDistMatrixFile sims.Rows"
   ]
  },
  {
   "cell_type": "markdown",
   "metadata": {},
   "source": [
    "#### Configure Markov Chains"
   ]
  },
  {
   "cell_type": "code",
   "execution_count": 10,
   "metadata": {
    "dotnet_interactive": {
     "language": "fsharp"
    }
   },
   "outputs": [],
   "source": [
    "let (initCluster: Clustering) = init |> List.zip docs |> Map.ofList"
   ]
  },
  {
   "cell_type": "code",
   "execution_count": null,
   "metadata": {},
   "outputs": [],
   "source": [
    "let ChainIter (chain: MarkovChain) = \n",
    "    let runChain = function\n",
    "    | [(curState, curScore)] -> chain.StateTransistionStep(curState, curScore):: [(curState, curScore)]\n",
    "    | (curState, curScore)::cs -> chain.StateTransistionStep(curState, curScore):: (curState, curScore)::cs\n",
    "    | _ -> raise (System.ArgumentException(\"Initial State cannot be empty\"))\n",
    "    runChain"
   ]
  },
  {
   "cell_type": "code",
   "execution_count": 9,
   "metadata": {
    "dotnet_interactive": {
     "language": "fsharp"
    }
   },
   "outputs": [],
   "source": [
    "let (flip: Proposal) = FlipProposal bins docs\n",
    "let (score: ScoreFunction) = AvgIntraCluster bins\n",
    "\n",
    "let (accept: AcceptanceFunction) = GeoSemAcceptanceProb beta\n",
    "let (acceptSemantic: AcceptanceFunction) = SemAcceptanceProb beta\n",
    "let (acceptGeographic: AcceptanceFunction) = GeoAcceptanceProb beta\n",
    "\n",
    "let (chain: MarkovChain) = MarkovChain(flip, score, geoDistance, semanticSim, accept)\n",
    "let (chainSemantic: MarkovChain) = MarkovChain(flip, score, geoDistance, semanticSim, acceptSemantic)\n",
    "let (chainGeographic: MarkovChain) = MarkovChain(flip, score, geoDistance, semanticSim, acceptGeographic)\n",
    "\n",
    "let chainBoth = ChainIter chain\n",
    "let results = [1 .. iters] |> List.fold (fun acc i -> chainBoth acc) [(initCluster, chain.ScoreFunction initCluster)]\n",
    "let scoreResults = results |> List.unzip |> snd |> List.rev\n",
    "\n",
    "let chainSem = ChainIter chainSemantic\n",
    "let resultsSemantic = [1 .. iters] |> List.fold (fun acc i -> chainSem acc) [(initCluster, chain.ScoreFunction initCluster)]\n",
    "let scoreResultsSemantic = resultsSemantic |> List.unzip |> snd |> List.rev\n",
    "\n",
    "let chainGeo = ChainIter chainGeographic\n",
    "let resultsGeo = [1 .. iters] |> List.fold (fun acc i -> chainGeo acc) [(initCluster, chain.ScoreFunction initCluster)]\n",
    "let scoreResultsGeographic = resultsGeo |> List.unzip |> snd |> List.rev"
   ]
  },
  {
   "cell_type": "markdown",
   "metadata": {},
   "source": [
    "#### Function to run chain and accumulated reuslts."
   ]
  },
  {
   "cell_type": "code",
   "execution_count": 11,
   "metadata": {
    "dotnet_interactive": {
     "language": "fsharp"
    }
   },
   "outputs": [],
   "source": [
    "let ChainIter (chain: MarkovChain) = \n",
    "    let runChain = function\n",
    "    | [(curState, curScore)] -> chain.StateTransistionStep(curState, curScore):: [(curState, curScore)]\n",
    "    | (curState, curScore)::cs -> chain.StateTransistionStep(curState, curScore):: (curState, curScore)::cs\n",
    "    | _ -> raise (System.ArgumentException(\"Initial State cannot be empty\"))\n",
    "    runChain"
   ]
  },
  {
   "cell_type": "code",
   "execution_count": 12,
   "metadata": {
    "dotnet_interactive": {
     "language": "fsharp"
    }
   },
   "outputs": [],
   "source": [
    "let chainBoth = ChainIter chain\n",
    "let results = [1 .. iters] |> List.fold (fun acc i -> chainBoth acc) [(initCluster, chain.ScoreFunction initCluster)]"
   ]
  },
  {
   "cell_type": "code",
   "execution_count": 13,
   "metadata": {
    "dotnet_interactive": {
     "language": "fsharp"
    }
   },
   "outputs": [],
   "source": [
    "let maxSemJsonBoth = results |> List.maxBy (fun (_, (_, s)) -> s) |> fst |> JsonConvert.SerializeObject\n",
    "File.WriteAllText(output_dir + \"/\" + output_filename, maxSemJsonBoth)"
   ]
  },
  {
   "cell_type": "code",
   "execution_count": null,
   "metadata": {},
   "outputs": [],
   "source": [
    "let scoreResultTypes = [(scoreResults, \"Both\"); (scoreResultsSemantic, \"Optimize Semantic\"); (scoreResultsGeographic, \"Optimize Geographic\")]"
   ]
  },
  {
   "cell_type": "code",
   "execution_count": null,
   "metadata": {},
   "outputs": [],
   "source": [
    "let steps = scoreResults.Length - 1\n",
    "let lines = \n",
    "    scoreResultTypes |> List.map (fun (res, name) ->\n",
    "        [for x in 1 .. steps -> (x, res.[x] |> fst)] |> Chart.Line \n",
    "                                                     |> Chart.withTraceName(name) \n",
    "                                                     |> Chart.withY_AxisStyle(\"Hausdorff Distance\")\n",
    "        )\n",
    "    |> Chart.Combine\n",
    "    |> Chart.withLayoutGridStyle(XSide=StyleParam.LayoutGridXSide.Bottom,YGap= 0.1)\n",
    "    |> Chart.withTitle(\"Average Intra-Cluster Geographic Scores\")\n",
    "    |> Chart.withX_AxisStyle(\"Steps\")\n",
    "\n",
    "lines |> Chart.SaveHtmlAs(sprintf \"%s/geographic_scores_beta_%f.html\" output_dir beta)"
   ]
  },
  {
   "cell_type": "code",
   "execution_count": null,
   "metadata": {},
   "outputs": [],
   "source": [
    "let steps = scoreResults.Length - 1\n",
    "let lines = \n",
    "    scoreResultTypes |> List.map (fun (res, name) ->\n",
    "        [for x in 1 .. steps -> (x, res.[x] |> snd)] |> Chart.Line \n",
    "                                                     |> Chart.withTraceName(name) \n",
    "                                                     |> Chart.withY_AxisStyle(\"Jaccard Index\")\n",
    "        )\n",
    "    |> Chart.Combine\n",
    "    |> Chart.withLayoutGridStyle(XSide=StyleParam.LayoutGridXSide.Bottom,YGap= 0.1)\n",
    "    |> Chart.withTitle(\"Average Intra-Cluster Semantic Scores\")\n",
    "    |> Chart.withX_AxisStyle(\"Steps\")\n",
    "\n",
    "lines |> Chart.SaveHtmlAs(sprintf \"%s/semantic_scores_beta_%f.html\" output_dir beta)"
   ]
  }
 ],
 "metadata": {
  "kernelspec": {
   "display_name": ".NET (F#)",
   "language": "F#",
   "name": ".net-fsharp"
  },
  "language_info": {
   "file_extension": ".fs",
   "mimetype": "text/x-fsharp",
   "name": "F#",
   "pygments_lexer": "fsharp",
   "version": "5.0"
  }
 },
 "nbformat": 4,
 "nbformat_minor": 4
}
