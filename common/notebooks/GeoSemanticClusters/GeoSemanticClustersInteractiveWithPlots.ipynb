{
 "cells": [
  {
   "cell_type": "markdown",
   "metadata": {},
   "source": [
    "# Geo-Semantic Clustering Interactive Notebook\n",
    "JN Matthews - 19.8.2021\n",
    "(modified by Parker Rule for interoperability with main data pipeline)"
   ]
  },
  {
   "cell_type": "code",
   "execution_count": null,
   "metadata": {
    "dotnet_interactive": {
     "language": "fsharp"
    }
   },
   "outputs": [],
   "source": [
    "#r \"nuget: MathNet.Numerics.FSharp, 4.15.0\"\n",
    "#r \"nuget:FSharp.Data\"\n",
    "#r \"nuget: Plotly.NET, 2.0.0-beta9\"\n",
    "#r \"nuget: Plotly.NET.Interactive, 2.0.0-beta9\"\n",
    "#r \"nuget: Newtonsoft.Json, 12.0.3\""
   ]
  },
  {
   "cell_type": "code",
   "execution_count": null,
   "metadata": {
    "dotnet_interactive": {
     "language": "fsharp"
    }
   },
   "outputs": [],
   "source": [
    "#load \"/Users/pjrule/Dropbox/MGGG/coi-states/common/notebooks/GeoSemanticClusters/GeoSemanticClusters.fs\""
   ]
  },
  {
   "cell_type": "code",
   "execution_count": null,
   "metadata": {
    "dotnet_interactive": {
     "language": "fsharp"
    }
   },
   "outputs": [],
   "source": [
    "open MathNet.Numerics.LinearAlgebra\n",
    "open MathNet.Numerics.Optimization\n",
    "open MathNet.Numerics\n",
    "open FSharp.Data\n",
    "open Plotly.NET\n",
    "open Newtonsoft.Json\n",
    "open System.IO\n",
    "open GeoSemanticClusters"
   ]
  },
  {
   "cell_type": "markdown",
   "metadata": {},
   "source": [
    "### Papermill parameters"
   ]
  },
  {
   "cell_type": "code",
   "execution_count": null,
   "metadata": {
    "tags": [
     "parameters"
    ]
   },
   "outputs": [],
   "source": [
    "let output_dir = \"/Users/pjrule/MGGG/coi-states/MI/outputs\"\n",
    "let hausdorff_dists_filename = \"mi_cluster_db_20210823_cluster_22_hausdorff_dists.txt\"\n",
    "let jaccard_sims_filename = \"mi_cluster_db_20210823_cluster_22_jaccard_sims.txt\"\n",
    "let output_filename = \"mi_cluster_db_20210823_cluster_22_clustering.json\"\n",
    "let num_bins = 2\n",
    "let beta = 2.\n",
    "let iters = 1000000"
   ]
  },
  {
   "cell_type": "markdown",
   "metadata": {},
   "source": [
    "#### Load metric matricies for documents and initial clustering."
   ]
  },
  {
   "cell_type": "code",
   "execution_count": null,
   "metadata": {
    "dotnet_interactive": {
     "language": "fsharp"
    }
   },
   "outputs": [],
   "source": [
    "let dists = CsvFile.Load(output_dir + \"/\" + hausdorff_dists_filename,\n",
    "                         separators=\" \", hasHeaders=false).Cache()\n",
    "let sims = CsvFile.Load(output_dir + \"/\" + jaccard_sims_filename,\n",
    "                         separators=\" \", hasHeaders=false).Cache()"
   ]
  },
  {
   "cell_type": "code",
   "execution_count": null,
   "metadata": {
    "dotnet_interactive": {
     "language": "fsharp"
    }
   },
   "outputs": [],
   "source": [
    "let bins = [1 .. num_bins]\n",
    "let docs = [0 .. dists.NumberOfColumns - 1]"
   ]
  },
  {
   "cell_type": "code",
   "execution_count": null,
   "metadata": {},
   "outputs": [],
   "source": [
    "// Start with random cluster assignments.\n",
    "// see https://stackoverflow.com/a/58368747\n",
    "let random = new System.Random()\n",
    "let a () = random.Next(1, num_bins + 1)\n",
    "let init = [ for i in 1 .. dists.NumberOfColumns -> a ()]"
   ]
  },
  {
   "cell_type": "code",
   "execution_count": null,
   "metadata": {
    "dotnet_interactive": {
     "language": "fsharp"
    }
   },
   "outputs": [],
   "source": [
    "let parseDistMatrixFile (rows: seq<CsvRow>) =\n",
    "    rows |> Seq.map (fun r -> docs |> List.map (fun d -> r.[d].AsFloat()) ) |> Seq.toList |> array2D\n",
    "\n",
    "let (geoDistance: GeoScore[,]) = parseDistMatrixFile dists.Rows\n",
    "let (semanticSim: SemanticScore[,]) = parseDistMatrixFile sims.Rows"
   ]
  },
  {
   "cell_type": "markdown",
   "metadata": {},
   "source": [
    "#### Configure Markov Chains"
   ]
  },
  {
   "cell_type": "code",
   "execution_count": null,
   "metadata": {
    "dotnet_interactive": {
     "language": "fsharp"
    }
   },
   "outputs": [],
   "source": [
    "let (initCluster: Clustering) = init |> List.zip docs |> Map.ofList"
   ]
  },
  {
   "cell_type": "code",
   "execution_count": null,
   "metadata": {},
   "outputs": [],
   "source": [
    "let ChainIter (chain: MarkovChain) = \n",
    "    let runChain = function\n",
    "    | [(curState, curScore)] -> chain.StateTransistionStep(curState, curScore):: [(curState, curScore)]\n",
    "    | (curState, curScore)::cs -> chain.StateTransistionStep(curState, curScore):: (curState, curScore)::cs\n",
    "    | _ -> raise (System.ArgumentException(\"Initial State cannot be empty\"))\n",
    "    runChain"
   ]
  },
  {
   "cell_type": "code",
   "execution_count": null,
   "metadata": {
    "dotnet_interactive": {
     "language": "fsharp"
    }
   },
   "outputs": [],
   "source": [
    "let (flip: Proposal) = FlipProposal bins docs\n",
    "let (score: ScoreFunction) = AvgIntraCluster bins\n",
    "\n",
    "let (accept: AcceptanceFunction) = GeoSemAcceptanceProb beta\n",
    "let (acceptSemantic: AcceptanceFunction) = SemAcceptanceProb beta\n",
    "let (acceptGeographic: AcceptanceFunction) = GeoAcceptanceProb beta\n",
    "\n",
    "let (chain: MarkovChain) = MarkovChain(flip, score, geoDistance, semanticSim, accept)\n",
    "let (chainSemantic: MarkovChain) = MarkovChain(flip, score, geoDistance, semanticSim, acceptSemantic)\n",
    "let (chainGeographic: MarkovChain) = MarkovChain(flip, score, geoDistance, semanticSim, acceptGeographic)\n",
    "\n",
    "let chainBoth = ChainIter chain\n",
    "let results = [1 .. iters] |> List.fold (fun acc i -> chainBoth acc) [(initCluster, chain.ScoreFunction initCluster)]\n",
    "let scoreResults = results |> List.unzip |> snd |> List.rev\n",
    "\n",
    "let chainSem = ChainIter chainSemantic\n",
    "let resultsSemantic = [1 .. iters] |> List.fold (fun acc i -> chainSem acc) [(initCluster, chain.ScoreFunction initCluster)]\n",
    "let scoreResultsSemantic = resultsSemantic |> List.unzip |> snd |> List.rev\n",
    "\n",
    "let chainGeo = ChainIter chainGeographic\n",
    "let resultsGeo = [1 .. iters] |> List.fold (fun acc i -> chainGeo acc) [(initCluster, chain.ScoreFunction initCluster)]\n",
    "let scoreResultsGeographic = resultsGeo |> List.unzip |> snd |> List.rev"
   ]
  },
  {
   "cell_type": "markdown",
   "metadata": {},
   "source": [
    "#### Function to run chain and accumulated reuslts."
   ]
  },
  {
   "cell_type": "code",
   "execution_count": null,
   "metadata": {
    "dotnet_interactive": {
     "language": "fsharp"
    }
   },
   "outputs": [],
   "source": [
    "let ChainIter (chain: MarkovChain) = \n",
    "    let runChain = function\n",
    "    | [(curState, curScore)] -> chain.StateTransistionStep(curState, curScore):: [(curState, curScore)]\n",
    "    | (curState, curScore)::cs -> chain.StateTransistionStep(curState, curScore):: (curState, curScore)::cs\n",
    "    | _ -> raise (System.ArgumentException(\"Initial State cannot be empty\"))\n",
    "    runChain"
   ]
  },
  {
   "cell_type": "code",
   "execution_count": null,
   "metadata": {
    "dotnet_interactive": {
     "language": "fsharp"
    }
   },
   "outputs": [],
   "source": [
    "let chainBoth = ChainIter chain\n",
    "let results = [1 .. iters] |> List.fold (fun acc i -> chainBoth acc) [(initCluster, chain.ScoreFunction initCluster)]"
   ]
  },
  {
   "cell_type": "code",
   "execution_count": null,
   "metadata": {
    "dotnet_interactive": {
     "language": "fsharp"
    }
   },
   "outputs": [],
   "source": [
    "let maxSemJsonBoth = results |> List.maxBy (fun (_, (_, s)) -> s) |> fst |> JsonConvert.SerializeObject\n",
    "File.WriteAllText(output_dir + \"/\" + output_filename, maxSemJsonBoth)"
   ]
  },
  {
   "cell_type": "code",
   "execution_count": null,
   "metadata": {},
   "outputs": [],
   "source": [
    "let scoreResultTypes = [(scoreResults, \"Both\"); (scoreResultsSemantic, \"Optimize Semantic\"); (scoreResultsGeographic, \"Optimize Geographic\")]"
   ]
  },
  {
   "cell_type": "code",
   "execution_count": null,
   "metadata": {},
   "outputs": [],
   "source": [
    "let steps = scoreResults.Length - 1\n",
    "let lines = \n",
    "    scoreResultTypes |> List.map (fun (res, name) ->\n",
    "        [for x in 1 .. steps -> (x, res.[x] |> fst)] |> Chart.Line \n",
    "                                                     |> Chart.withTraceName(name) \n",
    "                                                     |> Chart.withY_AxisStyle(\"Hausdorff Distance\")\n",
    "        )\n",
    "    |> Chart.Combine\n",
    "    |> Chart.withLayoutGridStyle(XSide=StyleParam.LayoutGridXSide.Bottom,YGap= 0.1)\n",
    "    |> Chart.withTitle(\"Average Intra-Cluster Geographic Scores\")\n",
    "    |> Chart.withX_AxisStyle(\"Steps\")\n",
    "\n",
    "lines |> Chart.SaveHtmlAs(sprintf \"%s/geographic_scores_beta_%f.html\" output_dir beta)"
   ]
  },
  {
   "cell_type": "code",
   "execution_count": null,
   "metadata": {},
   "outputs": [],
   "source": [
    "let steps = scoreResults.Length - 1\n",
    "let lines = \n",
    "    scoreResultTypes |> List.map (fun (res, name) ->\n",
    "        [for x in 1 .. steps -> (x, res.[x] |> snd)] |> Chart.Line \n",
    "                                                     |> Chart.withTraceName(name) \n",
    "                                                     |> Chart.withY_AxisStyle(\"Jaccard Index\")\n",
    "        )\n",
    "    |> Chart.Combine\n",
    "    |> Chart.withLayoutGridStyle(XSide=StyleParam.LayoutGridXSide.Bottom,YGap= 0.1)\n",
    "    |> Chart.withTitle(\"Average Intra-Cluster Semantic Scores\")\n",
    "    |> Chart.withX_AxisStyle(\"Steps\")\n",
    "\n",
    "lines |> Chart.SaveHtmlAs(sprintf \"%s/semantic_scores_beta_%f.html\" output_dir beta)"
   ]
  }
 ],
 "metadata": {
  "kernelspec": {
   "display_name": ".NET (F#)",
   "language": "F#",
   "name": ".net-fsharp"
  },
  "language_info": {
   "file_extension": ".fs",
   "mimetype": "text/x-fsharp",
   "name": "F#",
   "pygments_lexer": "fsharp",
   "version": "5.0"
  }
 },
 "nbformat": 4,
 "nbformat_minor": 4
}
