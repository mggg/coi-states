{
 "cells": [
  {
   "cell_type": "code",
   "execution_count": null,
   "id": "a888192c-f27e-4f30-9d7c-217309e686cd",
   "metadata": {
    "id": "a888192c-f27e-4f30-9d7c-217309e686cd"
   },
   "outputs": [],
   "source": [
    "%config InlineBackend.figure_formats = ['retina']\n",
    "import os\n",
    "import random\n",
    "import pickle\n",
    "import numpy as np\n",
    "import pandas as pd\n",
    "import geopandas as gpd\n",
    "from ast import literal_eval\n",
    "import matplotlib.pyplot as plt\n",
    "from IPython.display import display, Markdown\n",
    "from artemis.general.pareto_efficiency import is_pareto_efficient\n",
    "from submission_analysis.mc_clustering import geo_semantic_chain\n",
    "from tqdm import tqdm\n",
    "from collections import Counter"
   ]
  },
  {
   "cell_type": "code",
   "execution_count": null,
   "id": "c33b71dc-5b56-402a-9fc2-67da3462d35e",
   "metadata": {
    "id": "c33b71dc-5b56-402a-9fc2-67da3462d35e",
    "tags": [
     "parameters"
    ]
   },
   "outputs": [],
   "source": [
    "db_path = 'mi_cluster_db_20210809_new_format.pkl'\n",
    "bg_2010_shp_path = 'tl_2010_26_bg10.shp'\n",
    "num_clusters = 36\n",
    "cluster_splits = {22: 2, 32: 2}\n",
    "chain_beta = 2.\n",
    "chain_length = 25000\n",
    "rng_seed = 42\n",
    "exclude_labels = [\n",
    "    'theory',\n",
    "    'personal-unusable-incoherent',\n",
    "    'ideology',\n",
    "    'named neighborhood'\n",
    "]"
   ]
  },
  {
   "cell_type": "code",
   "execution_count": null,
   "id": "7a2b9691-2f5b-403b-9c78-ef8826872cf9",
   "metadata": {
    "id": "7a2b9691-2f5b-403b-9c78-ef8826872cf9"
   },
   "outputs": [],
   "source": [
    "random.seed(rng_seed)"
   ]
  },
  {
   "cell_type": "code",
   "execution_count": null,
   "id": "7b0032fd-5ef6-496e-b17a-77b9e9d2de59",
   "metadata": {
    "id": "7b0032fd-5ef6-496e-b17a-77b9e9d2de59"
   },
   "outputs": [],
   "source": [
    "db = pickle.load(open(db_path, 'rb'))"
   ]
  },
  {
   "cell_type": "code",
   "execution_count": null,
   "id": "89759b36-9ca9-4dc9-9c97-41521e9f1a13",
   "metadata": {
    "id": "89759b36-9ca9-4dc9-9c97-41521e9f1a13"
   },
   "outputs": [],
   "source": [
    "db.coi_data['idx'] = range(len(db.coi_data))"
   ]
  },
  {
   "cell_type": "code",
   "execution_count": null,
   "id": "aedec7bf-1fdb-4eb3-b663-6ecd455d2af1",
   "metadata": {
    "id": "aedec7bf-1fdb-4eb3-b663-6ecd455d2af1"
   },
   "outputs": [],
   "source": [
    "clusters_df = db.clusters_from_number(num_clusters)"
   ]
  },
  {
   "cell_type": "code",
   "execution_count": null,
   "id": "b7c04220-59cb-4f79-b335-7b3662bb1977",
   "metadata": {
    "id": "b7c04220-59cb-4f79-b335-7b3662bb1977"
   },
   "outputs": [],
   "source": [
    "clusters_df['labels'] = clusters_df['labels'].apply(literal_eval)"
   ]
  },
  {
   "cell_type": "code",
   "execution_count": null,
   "id": "633e6eba-93d3-4a20-9175-8c7d4e06f6fa",
   "metadata": {
    "id": "633e6eba-93d3-4a20-9175-8c7d4e06f6fa"
   },
   "outputs": [],
   "source": [
    "bg_gdf = gpd.read_file(bg_2010_shp_path).set_index('GEOID10')"
   ]
  },
  {
   "cell_type": "code",
   "execution_count": null,
   "id": "d185e2fc-027d-4330-82aa-a4281d45babf",
   "metadata": {
    "id": "d185e2fc-027d-4330-82aa-a4281d45babf"
   },
   "outputs": [],
   "source": [
    "def jaccard_similarity_matrix(cluster_df):\n",
    "  \"\"\"Generates a Jaccard similarity matrix over unique labels.\"\"\"\n",
    "  unique_labels = {\n",
    "    label: idx\n",
    "    for idx, label in enumerate(\n",
    "        set.union(*(set(labels) for labels in cluster_df['labels'])) -\n",
    "        exclude_labels)\n",
    "  }\n",
    "  \n",
    "  n = len(cluster_df)\n",
    "  label_vectors = np.zeros((n, len(unique_labels)), dtype=int)\n",
    "  for idx, labels in enumerate(cluster_df['labels']):\n",
    "    for label in labels:\n",
    "      if label in unique_labels:\n",
    "        label_vectors[idx, unique_labels[label]] = 1\n",
    "        \n",
    "  semantic_similarities = np.zeros((n, n))\n",
    "  for ii, outer_vec in enumerate(label_vectors):\n",
    "    for jj, inner_vec in enumerate(label_vectors):\n",
    "      inter = np.bitwise_and(inner_vec, outer_vec)\n",
    "      union = np.bitwise_or(inner_vec, outer_vec)\n",
    "      semantic_similarities[ii, jj] = inter.sum() / max(union.sum(), 1)\n",
    "  return semantic_similarities"
   ]
  },
  {
   "cell_type": "code",
   "execution_count": null,
   "id": "4db1c6a0-2968-48ae-8bd0-c915cc44d6df",
   "metadata": {
    "colab": {
     "base_uri": "https://localhost:8080/",
     "height": 1000
    },
    "id": "4db1c6a0-2968-48ae-8bd0-c915cc44d6df",
    "outputId": "999838c9-d0ee-4556-bb4d-5336053ed8ff"
   },
   "outputs": [],
   "source": [
    "cluster_states = {}\n",
    "cluster_scores = {}\n",
    "cluster_pareto_fronts = {}\n",
    "\n",
    "for cluster_id, num_clusters in cluster_splits.items():\n",
    "  cluster_df = clusters_df[clusters_df['clusters'] == int(cluster_id)]\n",
    "  semantic_sims = jaccard_similarity_matrix(cluster_df)\n",
    "  indices = cluster_df['idx']\n",
    "  geo_distances = db.coi_total_dissimilarities[indices][:, indices]\n",
    "  chain = geo_semantic_chain(geo_distances, semantic_sims, chain_beta, num_clusters, chain_length)\n",
    "  \n",
    "  states = [s for s in tqdm(chain)]\n",
    "  scores = np.array([(state.scores['semantic'], state.scores['geo']) for state in states]).T.copy()\n",
    "  cluster_states[cluster_id] = states\n",
    "  cluster_scores[cluster_id] = scores\n",
    "  # normalize semantic similarities: 1 is random baseline, higher is better\n",
    "  scores[0] = scores[0] / scores[0, 0]\n",
    "  # normalize geographic distances: 1 is random baseline, lower is better\n",
    "  scores[1] = scores[1] / scores[1, 0]\n",
    "  pareto_front = np.where(is_pareto_efficient(np.array([-scores[0], scores[1]]).T))[0]\n",
    "  cluster_pareto_fronts[cluster_id] = pareto_front\n",
    "\n",
    "  fig, ax = plt.subplots(figsize=(10, 6))\n",
    "  ax.scatter(scores[0], scores[1])\n",
    "  ax.set_xlabel('Semantic similarity (higher better)')\n",
    "  ax.set_ylabel('Geographic distance (lower better)')\n",
    "  ax.set_title(f'All steps (cluster {cluster_id})')\n",
    "  plt.show()\n",
    "  plt.close()\n",
    "\n",
    "  fig, ax = plt.subplots(figsize=(10, 6))\n",
    "  ax.scatter(scores[0, pareto_front], scores[1, pareto_front])\n",
    "  ax.set_xlabel('Semantic similarity (higher better)')\n",
    "  ax.set_ylabel('Geographic distance (lower better)')\n",
    "  ax.set_title(f'Pareto front (cluster {cluster_id})')\n",
    "  for idx, (x, y) in enumerate(scores[:, pareto_front].T):\n",
    "    ax.annotate(str(idx), (x, y), textcoords='offset points', ha='center', xytext=(-10, 0))\n",
    "  plt.show()\n",
    "  plt.close()"
   ]
  },
  {
   "cell_type": "code",
   "execution_count": null,
   "id": "70e7c668-8556-43e1-b139-1896a665a55a",
   "metadata": {
    "id": "70e7c668-8556-43e1-b139-1896a665a55a"
   },
   "outputs": [],
   "source": [
    "def plot_split(cluster_id, pareto_id):\n",
    "  cluster_df = clusters_df[clusters_df['clusters'] == int(cluster_id)].copy()\n",
    "  state = cluster_states[cluster_id][pareto_id]\n",
    "\n",
    "  fig, ax1 = plt.subplots(dpi=300)\n",
    "  fig, ax2 = plt.subplots(dpi=300)\n",
    "  colors = ['red', 'blue', 'green', 'yellow']\n",
    "  for label, indices in state.partitions.items():\n",
    "    partition_bgs = Counter()\n",
    "    for bgs in cluster_df.iloc[sorted(indices)]['block_groups_2010']:\n",
    "        for bg in bgs:\n",
    "            partition_bgs[bg] += 1\n",
    "    bg_gdf.loc[list(partition_bgs)].plot(ax=ax1, color=colors[label], alpha=0.5)\n",
    "    bg_gdf.loc[[k for k, v in partition_bgs.items() if v >= 3]].plot(ax=ax2, color=colors[label], alpha=0.5)\n",
    "    ax1.scatter([], [], label=str(label), color=colors[label])\n",
    "    ax2.scatter([], [], label=str(label), color=colors[label])\n",
    "  ax1.legend()\n",
    "  ax2.legend()\n",
    "  ax1.set_title('Subclusters (≥ 1 occurrence)')\n",
    "  ax2.set_title('Subclusters (≥ 3 occurrences)')\n",
    "  plt.show()\n",
    "  for label, indices in state.partitions.items():\n",
    "    display(Markdown(f'# Subcluster {label}'))\n",
    "    text_label_freq = Counter()\n",
    "    for text_labels in cluster_df.iloc[sorted(indices)]['labels']:\n",
    "        for text_label in text_labels:\n",
    "            if text_label not in exclude_labels:\n",
    "                text_label_freq[text_label] += 1\n",
    "    counts_df = pd.DataFrame(text_label_freq.most_common(), columns=('label', 'count')).set_index('label')\n",
    "    fig, ax = plt.subplots(dpi=100)\n",
    "    counts_df.plot.barh(ax=ax)\n",
    "    ax.set_title(f'Label frequency (subcluster {label})')\n",
    "    plt.show()\n",
    "\n",
    "    with pd.option_context('display.max_rows', None, 'display.max_colwidth', None):\n",
    "        display(cluster_df.iloc[sorted(indices)][['submission_text', 'area_text', 'area_name', 'labels']])"
   ]
  },
  {
   "cell_type": "code",
   "execution_count": null,
   "id": "809a7e93-6152-4387-adb6-20b0bcc10468",
   "metadata": {
    "colab": {
     "base_uri": "https://localhost:8080/",
     "height": 1000
    },
    "id": "809a7e93-6152-4387-adb6-20b0bcc10468",
    "outputId": "4329b502-ad2c-43f0-f0e2-ab22e848227c"
   },
   "outputs": [],
   "source": [
    "plot_split(32, 7)"
   ]
  }
 ],
 "metadata": {
  "colab": {
   "collapsed_sections": [],
   "name": "sub_clusters.ipynb",
   "provenance": []
  },
  "kernelspec": {
   "display_name": "Python 3 (ipykernel)",
   "language": "python",
   "name": "python3"
  },
  "language_info": {
   "codemirror_mode": {
    "name": "ipython",
    "version": 3
   },
   "file_extension": ".py",
   "mimetype": "text/x-python",
   "name": "python",
   "nbconvert_exporter": "python",
   "pygments_lexer": "ipython3",
   "version": "3.9.6"
  }
 },
 "nbformat": 4,
 "nbformat_minor": 5
}
