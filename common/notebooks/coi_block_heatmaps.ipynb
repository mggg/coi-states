{
 "cells": [
  {
   "cell_type": "code",
   "execution_count": null,
   "id": "0076921c-66c3-4777-a7f6-ec5bc804e065",
   "metadata": {},
   "outputs": [],
   "source": [
    "%config InlineBackend.figure_formats = ['png']\n",
    "import os\n",
    "import maup\n",
    "import pandas as pd\n",
    "import geopandas as gpd\n",
    "from tqdm import tqdm\n",
    "from gerrychain import Graph\n",
    "from pcompress import Replay\n",
    "from collections import defaultdict, Counter\n",
    "import matplotlib.pyplot as plt\n",
    "from joblib import Parallel, delayed\n",
    "from itertools import permutations"
   ]
  },
  {
   "cell_type": "code",
   "execution_count": null,
   "id": "a94d9c65-4c34-4cc8-ad50-e5cb25d462ab",
   "metadata": {},
   "outputs": [],
   "source": [
    "import warnings; warnings.filterwarnings('ignore', 'GeoSeries.isna', UserWarning)"
   ]
  },
  {
   "cell_type": "code",
   "execution_count": null,
   "id": "41f20337-c108-409d-a505-06d883ed173e",
   "metadata": {},
   "outputs": [],
   "source": [
    "plans_path = '../../UT/data/plans'\n",
    "coi_shapefile_path = '../../UT/data/UT-COI-raw'\n",
    "block_shapefile_path = '../../UT/data/tl_2020_49_tabblock20'\n",
    "county_shapefile_path = '../../UT/data/Utah_County_Boundaries'\n",
    "proj = 'EPSG:32612'"
   ]
  },
  {
   "cell_type": "code",
   "execution_count": null,
   "id": "3858c731-46bd-4c4d-bb03-382b561f5a77",
   "metadata": {},
   "outputs": [],
   "source": [
    "county_gdf = gpd.read_file(county_shapefile_path).to_crs(proj)"
   ]
  },
  {
   "cell_type": "code",
   "execution_count": null,
   "id": "9fccd234-8718-4a78-995e-c40a531e0e0f",
   "metadata": {},
   "outputs": [],
   "source": [
    "block_gdf = gpd.read_file(block_shapefile_path).to_crs(proj).set_index('GEOID20')"
   ]
  },
  {
   "cell_type": "code",
   "execution_count": null,
   "id": "add859a7-7a31-4777-96dd-bde05e9b370a",
   "metadata": {},
   "outputs": [],
   "source": [
    "coi_gdf = gpd.read_file(coi_shapefile_path).to_crs(proj).set_index('PlanID')\n",
    "coi_gdf = coi_gdf[coi_gdf['MeetsMinim'] == 'Yes']  # remove low-quality submissions"
   ]
  },
  {
   "cell_type": "code",
   "execution_count": null,
   "id": "dd3fb6d2-7df5-44b7-b218-4f2803385451",
   "metadata": {},
   "outputs": [],
   "source": [
    "with maup.progress():\n",
    "  coi_blocks = maup.intersections(coi_gdf, block_gdf)"
   ]
  },
  {
   "cell_type": "code",
   "execution_count": null,
   "id": "d9edeba7-5114-42a3-84e6-5e3f097d35a7",
   "metadata": {},
   "outputs": [],
   "source": [
    "block_areas = dict(block_gdf.geometry.apply(lambda geom: geom.area))"
   ]
  },
  {
   "cell_type": "code",
   "execution_count": null,
   "id": "c31f2d44-d5c7-424c-a01e-70e023459a7c",
   "metadata": {},
   "outputs": [],
   "source": [
    "block_counts = Counter()\n",
    "for (_, block), geom in coi_blocks.geometry.items():\n",
    "  if geom.area > 0.01 * block_areas[block]:\n",
    "    block_counts[block] += 1"
   ]
  },
  {
   "cell_type": "code",
   "execution_count": null,
   "id": "5ebbb87f-c9cf-4fdb-9e4f-f323dbd9bdbf",
   "metadata": {},
   "outputs": [],
   "source": [
    "block_gdf['count'] = [block_counts[b] for b in block_gdf.index]"
   ]
  },
  {
   "cell_type": "code",
   "execution_count": null,
   "id": "412018d3-6eff-40be-9203-e49aa932ef5d",
   "metadata": {},
   "outputs": [],
   "source": [
    "fig, ax = plt.subplots(figsize=(8, 8))\n",
    "plt.axis('off')\n",
    "county_gdf.plot(ax=ax, color='#fffff5', edgecolor='#333')\n",
    "block_gdf.plot(ax=ax, column='count', cmap='YlOrRd', alpha=0.7, legend=True)\n",
    "plt.savefig('ut_coi_heatmap.png', dpi=300)\n",
    "plt.show()"
   ]
  },
  {
   "cell_type": "code",
   "execution_count": null,
   "id": "266cd5c7-95a2-4764-b4b9-03e98560a64c",
   "metadata": {},
   "outputs": [],
   "source": []
  }
 ],
 "metadata": {
  "kernelspec": {
   "display_name": "Python 3 (ipykernel)",
   "language": "python",
   "name": "python3"
  },
  "language_info": {
   "codemirror_mode": {
    "name": "ipython",
    "version": 3
   },
   "file_extension": ".py",
   "mimetype": "text/x-python",
   "name": "python",
   "nbconvert_exporter": "python",
   "pygments_lexer": "ipython3",
   "version": "3.9.6"
  }
 },
 "nbformat": 4,
 "nbformat_minor": 5
}
