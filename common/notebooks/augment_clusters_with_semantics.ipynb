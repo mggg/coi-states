{
 "cells": [
  {
   "cell_type": "code",
   "execution_count": null,
   "id": "5c8dbc6a-ea38-4a46-9b74-ee546c70bde3",
   "metadata": {},
   "outputs": [],
   "source": [
    "import os\n",
    "import json\n",
    "import pickle\n",
    "import pandas as pd"
   ]
  },
  {
   "cell_type": "markdown",
   "id": "7caa233e-175d-42df-8816-bbcd4dd1c37f",
   "metadata": {},
   "source": [
    "## Augmenting clusters with semantics\n",
    "This notebook replaces selected geographical clusters with subclusters based on geography _and_ semantics (generated with the Markov chain algorithm in `GeoSemanticClusters`)."
   ]
  },
  {
   "cell_type": "code",
   "execution_count": null,
   "id": "e88f46f2-1bea-4201-a6d3-095758bbc88e",
   "metadata": {
    "tags": [
     "parameters"
    ]
   },
   "outputs": [],
   "source": [
    "db_path = '../../MI/data/mi_cluster_db_20210825.pkl'\n",
    "data_dir = '../../MI/data'\n",
    "output_dir = '../../MI/outputs'\n",
    "output_filename = 'mi_cluster_db_20210825_augmented'\n",
    "num_clusters = 36  # before splitting\n",
    "splits = [\n",
    "  {'target': 22, 'cluster_filename': 'mi_cluster_db_20210823_cluster_22_clustering.json'},\n",
    "  {'target': 32, 'cluster_filename': 'mi_cluster_db_20210823_cluster_32_clustering.json'}\n",
    "]"
   ]
  },
  {
   "cell_type": "code",
   "execution_count": null,
   "id": "ed294c83-aca4-41a6-aad0-170f5315ccc3",
   "metadata": {},
   "outputs": [],
   "source": [
    "db = pickle.load(open(db_path, 'rb'))"
   ]
  },
  {
   "cell_type": "code",
   "execution_count": null,
   "id": "e551268e-a8d9-44ef-9130-ccbe785f5f69",
   "metadata": {},
   "outputs": [],
   "source": [
    "geo_clusters = db.clusters_from_number(num_clusters)"
   ]
  },
  {
   "cell_type": "code",
   "execution_count": null,
   "id": "a89047ea-5897-408c-9a54-d28f87ce0f2c",
   "metadata": {},
   "outputs": [],
   "source": [
    "next_cluster = geo_clusters['clusters'].max() + 1"
   ]
  },
  {
   "cell_type": "code",
   "execution_count": null,
   "id": "6cba493c-930b-465b-b104-0742a56d72b6",
   "metadata": {},
   "outputs": [],
   "source": [
    "for split in splits:\n",
    "  with open(os.path.join(output_dir, split['cluster_filename'])) as f:\n",
    "    split_data = json.load(f)\n",
    "  new_clusters = sorted(set(split_data.values()))\n",
    "  assert new_clusters[0] == 1\n",
    "  cluster_map = {1: split['target']}\n",
    "  for sub_id in new_clusters[1:]:\n",
    "    cluster_map[sub_id] = next_cluster\n",
    "    next_cluster += 1\n",
    "  \n",
    "  cluster_df = geo_clusters[geo_clusters['clusters'] == split['target']]\n",
    "  for idx, sub_id in split_data.items():\n",
    "    name = cluster_df.iloc[int(idx)].name\n",
    "    geo_clusters.loc[name, 'clusters'] = cluster_map[sub_id]"
   ]
  },
  {
   "cell_type": "code",
   "execution_count": null,
   "id": "ed3fc644-d6f7-4b2b-b9b2-c6ab592744db",
   "metadata": {},
   "outputs": [],
   "source": [
    "geo_clusters.index.name = 'id'\n",
    "geo_clusters.to_csv(os.path.join(data_dir, output_filename))"
   ]
  }
 ],
 "metadata": {
  "kernelspec": {
   "display_name": "Python 3 (ipykernel)",
   "language": "python",
   "name": "python3"
  },
  "language_info": {
   "codemirror_mode": {
    "name": "ipython",
    "version": 3
   },
   "file_extension": ".py",
   "mimetype": "text/x-python",
   "name": "python",
   "nbconvert_exporter": "python",
   "pygments_lexer": "ipython3",
   "version": "3.9.6"
  }
 },
 "nbformat": 4,
 "nbformat_minor": 5
}
